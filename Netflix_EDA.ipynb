{
 "cells": [
  {
   "cell_type": "markdown",
   "metadata": {},
   "source": [
    "### Problem Statement:\n",
    "Analyze the data and generate insights that could help Netflix deciding which type of shows/movies to produce and how they can grow the business in different countries."
   ]
  },
  {
   "cell_type": "code",
   "execution_count": null,
   "metadata": {
    "vscode": {
     "languageId": "python"
    }
   },
   "outputs": [
    {
     "ename": "",
     "evalue": "",
     "output_type": "error",
     "traceback": [
      "\u001b[1;31mJupyter cannot be started. Error attempting to locate Jupyter: Select an Interpreter to start Jupyter\n",
      "\u001b[1;31mRun the following command to install 'jupyter and notebook' into the Python environment. \n",
      "\u001b[1;31mCommand: 'python -m pip install jupyter notebook -U\n",
      "\u001b[1;31mor\n",
      "\u001b[1;31mconda install jupyter notebook -U'\n",
      "\u001b[1;31mClick <a href='https://aka.ms/installJupyterForVSCode'>here</a> for more info."
     ]
    }
   ],
   "source": [
    "import pandas as pd\n",
    "import numpy as np\n",
    "import matplotlib.pyplot as plt\n",
    "import seaborn as sns\n",
    "import re"
   ]
  },
  {
   "cell_type": "code",
   "execution_count": 852,
   "metadata": {
    "vscode": {
     "languageId": "python"
    }
   },
   "outputs": [],
   "source": [
    "df=pd.read_csv(\"netflix.csv\")"
   ]
  },
  {
   "cell_type": "code",
   "execution_count": 853,
   "metadata": {
    "vscode": {
     "languageId": "python"
    }
   },
   "outputs": [],
   "source": [
    "original_data=df.copy()"
   ]
  },
  {
   "cell_type": "code",
   "execution_count": 854,
   "metadata": {
    "vscode": {
     "languageId": "python"
    }
   },
   "outputs": [
    {
     "data": {
      "text/html": [
       "<div>\n",
       "<style scoped>\n",
       "    .dataframe tbody tr th:only-of-type {\n",
       "        vertical-align: middle;\n",
       "    }\n",
       "\n",
       "    .dataframe tbody tr th {\n",
       "        vertical-align: top;\n",
       "    }\n",
       "\n",
       "    .dataframe thead th {\n",
       "        text-align: right;\n",
       "    }\n",
       "</style>\n",
       "<table border=\"1\" class=\"dataframe\">\n",
       "  <thead>\n",
       "    <tr style=\"text-align: right;\">\n",
       "      <th></th>\n",
       "      <th>show_id</th>\n",
       "      <th>type</th>\n",
       "      <th>title</th>\n",
       "      <th>director</th>\n",
       "      <th>cast</th>\n",
       "      <th>country</th>\n",
       "      <th>date_added</th>\n",
       "      <th>release_year</th>\n",
       "      <th>rating</th>\n",
       "      <th>duration</th>\n",
       "      <th>listed_in</th>\n",
       "      <th>description</th>\n",
       "    </tr>\n",
       "  </thead>\n",
       "  <tbody>\n",
       "    <tr>\n",
       "      <th>0</th>\n",
       "      <td>s1</td>\n",
       "      <td>Movie</td>\n",
       "      <td>Dick Johnson Is Dead</td>\n",
       "      <td>Kirsten Johnson</td>\n",
       "      <td>NaN</td>\n",
       "      <td>United States</td>\n",
       "      <td>September 25, 2021</td>\n",
       "      <td>2020</td>\n",
       "      <td>PG-13</td>\n",
       "      <td>90 min</td>\n",
       "      <td>Documentaries</td>\n",
       "      <td>As her father nears the end of his life, filmm...</td>\n",
       "    </tr>\n",
       "    <tr>\n",
       "      <th>1</th>\n",
       "      <td>s2</td>\n",
       "      <td>TV Show</td>\n",
       "      <td>Blood &amp; Water</td>\n",
       "      <td>NaN</td>\n",
       "      <td>Ama Qamata, Khosi Ngema, Gail Mabalane, Thaban...</td>\n",
       "      <td>South Africa</td>\n",
       "      <td>September 24, 2021</td>\n",
       "      <td>2021</td>\n",
       "      <td>TV-MA</td>\n",
       "      <td>2 Seasons</td>\n",
       "      <td>International TV Shows, TV Dramas, TV Mysteries</td>\n",
       "      <td>After crossing paths at a party, a Cape Town t...</td>\n",
       "    </tr>\n",
       "    <tr>\n",
       "      <th>2</th>\n",
       "      <td>s3</td>\n",
       "      <td>TV Show</td>\n",
       "      <td>Ganglands</td>\n",
       "      <td>Julien Leclercq</td>\n",
       "      <td>Sami Bouajila, Tracy Gotoas, Samuel Jouy, Nabi...</td>\n",
       "      <td>NaN</td>\n",
       "      <td>September 24, 2021</td>\n",
       "      <td>2021</td>\n",
       "      <td>TV-MA</td>\n",
       "      <td>1 Season</td>\n",
       "      <td>Crime TV Shows, International TV Shows, TV Act...</td>\n",
       "      <td>To protect his family from a powerful drug lor...</td>\n",
       "    </tr>\n",
       "    <tr>\n",
       "      <th>3</th>\n",
       "      <td>s4</td>\n",
       "      <td>TV Show</td>\n",
       "      <td>Jailbirds New Orleans</td>\n",
       "      <td>NaN</td>\n",
       "      <td>NaN</td>\n",
       "      <td>NaN</td>\n",
       "      <td>September 24, 2021</td>\n",
       "      <td>2021</td>\n",
       "      <td>TV-MA</td>\n",
       "      <td>1 Season</td>\n",
       "      <td>Docuseries, Reality TV</td>\n",
       "      <td>Feuds, flirtations and toilet talk go down amo...</td>\n",
       "    </tr>\n",
       "    <tr>\n",
       "      <th>4</th>\n",
       "      <td>s5</td>\n",
       "      <td>TV Show</td>\n",
       "      <td>Kota Factory</td>\n",
       "      <td>NaN</td>\n",
       "      <td>Mayur More, Jitendra Kumar, Ranjan Raj, Alam K...</td>\n",
       "      <td>India</td>\n",
       "      <td>September 24, 2021</td>\n",
       "      <td>2021</td>\n",
       "      <td>TV-MA</td>\n",
       "      <td>2 Seasons</td>\n",
       "      <td>International TV Shows, Romantic TV Shows, TV ...</td>\n",
       "      <td>In a city of coaching centers known to train I...</td>\n",
       "    </tr>\n",
       "  </tbody>\n",
       "</table>\n",
       "</div>"
      ],
      "text/plain": [
       "  show_id     type                  title         director  \\\n",
       "0      s1    Movie   Dick Johnson Is Dead  Kirsten Johnson   \n",
       "1      s2  TV Show          Blood & Water              NaN   \n",
       "2      s3  TV Show              Ganglands  Julien Leclercq   \n",
       "3      s4  TV Show  Jailbirds New Orleans              NaN   \n",
       "4      s5  TV Show           Kota Factory              NaN   \n",
       "\n",
       "                                                cast        country  \\\n",
       "0                                                NaN  United States   \n",
       "1  Ama Qamata, Khosi Ngema, Gail Mabalane, Thaban...   South Africa   \n",
       "2  Sami Bouajila, Tracy Gotoas, Samuel Jouy, Nabi...            NaN   \n",
       "3                                                NaN            NaN   \n",
       "4  Mayur More, Jitendra Kumar, Ranjan Raj, Alam K...          India   \n",
       "\n",
       "           date_added  release_year rating   duration  \\\n",
       "0  September 25, 2021          2020  PG-13     90 min   \n",
       "1  September 24, 2021          2021  TV-MA  2 Seasons   \n",
       "2  September 24, 2021          2021  TV-MA   1 Season   \n",
       "3  September 24, 2021          2021  TV-MA   1 Season   \n",
       "4  September 24, 2021          2021  TV-MA  2 Seasons   \n",
       "\n",
       "                                           listed_in  \\\n",
       "0                                      Documentaries   \n",
       "1    International TV Shows, TV Dramas, TV Mysteries   \n",
       "2  Crime TV Shows, International TV Shows, TV Act...   \n",
       "3                             Docuseries, Reality TV   \n",
       "4  International TV Shows, Romantic TV Shows, TV ...   \n",
       "\n",
       "                                         description  \n",
       "0  As her father nears the end of his life, filmm...  \n",
       "1  After crossing paths at a party, a Cape Town t...  \n",
       "2  To protect his family from a powerful drug lor...  \n",
       "3  Feuds, flirtations and toilet talk go down amo...  \n",
       "4  In a city of coaching centers known to train I...  "
      ]
     },
     "execution_count": 854,
     "metadata": {},
     "output_type": "execute_result"
    }
   ],
   "source": [
    "df.head()"
   ]
  },
  {
   "cell_type": "code",
   "execution_count": 855,
   "metadata": {
    "vscode": {
     "languageId": "python"
    }
   },
   "outputs": [
    {
     "data": {
      "text/plain": [
       "(8807, 12)"
      ]
     },
     "execution_count": 855,
     "metadata": {},
     "output_type": "execute_result"
    }
   ],
   "source": [
    "df.shape"
   ]
  },
  {
   "cell_type": "code",
   "execution_count": 856,
   "metadata": {
    "vscode": {
     "languageId": "python"
    }
   },
   "outputs": [
    {
     "name": "stdout",
     "output_type": "stream",
     "text": [
      "<class 'pandas.core.frame.DataFrame'>\n",
      "RangeIndex: 8807 entries, 0 to 8806\n",
      "Data columns (total 12 columns):\n",
      " #   Column        Non-Null Count  Dtype \n",
      "---  ------        --------------  ----- \n",
      " 0   show_id       8807 non-null   object\n",
      " 1   type          8807 non-null   object\n",
      " 2   title         8807 non-null   object\n",
      " 3   director      6173 non-null   object\n",
      " 4   cast          7982 non-null   object\n",
      " 5   country       7976 non-null   object\n",
      " 6   date_added    8797 non-null   object\n",
      " 7   release_year  8807 non-null   int64 \n",
      " 8   rating        8803 non-null   object\n",
      " 9   duration      8804 non-null   object\n",
      " 10  listed_in     8807 non-null   object\n",
      " 11  description   8807 non-null   object\n",
      "dtypes: int64(1), object(11)\n",
      "memory usage: 825.8+ KB\n"
     ]
    }
   ],
   "source": [
    "df.info()"
   ]
  },
  {
   "cell_type": "code",
   "execution_count": 857,
   "metadata": {
    "vscode": {
     "languageId": "python"
    }
   },
   "outputs": [
    {
     "data": {
      "text/plain": [
       "show_id         object\n",
       "type            object\n",
       "title           object\n",
       "director        object\n",
       "cast            object\n",
       "country         object\n",
       "date_added      object\n",
       "release_year     int64\n",
       "rating          object\n",
       "duration        object\n",
       "listed_in       object\n",
       "description     object\n",
       "dtype: object"
      ]
     },
     "execution_count": 857,
     "metadata": {},
     "output_type": "execute_result"
    }
   ],
   "source": [
    "#Data Types of all attributes\n",
    "df.dtypes "
   ]
  },
  {
   "cell_type": "code",
   "execution_count": 858,
   "metadata": {
    "vscode": {
     "languageId": "python"
    }
   },
   "outputs": [
    {
     "name": "stdout",
     "output_type": "stream",
     "text": [
      "No.of Columns: 12\n"
     ]
    },
    {
     "data": {
      "text/plain": [
       "Index(['show_id', 'type', 'title', 'director', 'cast', 'country', 'date_added',\n",
       "       'release_year', 'rating', 'duration', 'listed_in', 'description'],\n",
       "      dtype='object')"
      ]
     },
     "execution_count": 858,
     "metadata": {},
     "output_type": "execute_result"
    }
   ],
   "source": [
    "print(\"No.of Columns:\",df.columns.shape[0])\n",
    "df.columns"
   ]
  },
  {
   "cell_type": "code",
   "execution_count": 859,
   "metadata": {
    "vscode": {
     "languageId": "python"
    }
   },
   "outputs": [
    {
     "data": {
      "text/plain": [
       "show_id            0\n",
       "type               0\n",
       "title              0\n",
       "director        2634\n",
       "cast             825\n",
       "country          831\n",
       "date_added        10\n",
       "release_year       0\n",
       "rating             4\n",
       "duration           3\n",
       "listed_in          0\n",
       "description        0\n",
       "dtype: int64"
      ]
     },
     "execution_count": 859,
     "metadata": {},
     "output_type": "execute_result"
    }
   ],
   "source": [
    "#count null values\n",
    "df.isnull().sum()"
   ]
  },
  {
   "cell_type": "markdown",
   "metadata": {},
   "source": [
    "#### Summary Stats:\n",
    "- Among 12 columns only 1 column is of integer type, Rest of them are of object type\n",
    "\n",
    "- These columns ('director', 'cast', 'country','date_added','rating', 'duration' ) having NaN values.\n",
    "\n",
    "- 'date_added' column has to be converted to date_time format.\n",
    "\n",
    "- Columns like 'director', 'cast', 'listed_in', 'country' having multiple values in single field. So Preprocessing is required. Preprocessing includes unnesting of data in the columns mentioned above.\n",
    "\n",
    "- Some data points of 'director', 'cast', 'country', 'rating' having white spaces in beginning and ending. So I have trim those white spaces.\n",
    "\n"
   ]
  },
  {
   "cell_type": "markdown",
   "metadata": {},
   "source": [
    "#### Converting current format of 'date_added' column to date_time format"
   ]
  },
  {
   "cell_type": "code",
   "execution_count": 860,
   "metadata": {
    "vscode": {
     "languageId": "python"
    }
   },
   "outputs": [],
   "source": [
    "df['date_added'] = pd.to_datetime(df['date_added'],errors='coerce').dt.date"
   ]
  },
  {
   "cell_type": "markdown",
   "metadata": {},
   "source": [
    "#### Preprocessing - Unnesting of data\n"
   ]
  },
  {
   "cell_type": "code",
   "execution_count": 861,
   "metadata": {
    "vscode": {
     "languageId": "python"
    }
   },
   "outputs": [
    {
     "data": {
      "text/html": [
       "<div>\n",
       "<style scoped>\n",
       "    .dataframe tbody tr th:only-of-type {\n",
       "        vertical-align: middle;\n",
       "    }\n",
       "\n",
       "    .dataframe tbody tr th {\n",
       "        vertical-align: top;\n",
       "    }\n",
       "\n",
       "    .dataframe thead th {\n",
       "        text-align: right;\n",
       "    }\n",
       "</style>\n",
       "<table border=\"1\" class=\"dataframe\">\n",
       "  <thead>\n",
       "    <tr style=\"text-align: right;\">\n",
       "      <th></th>\n",
       "      <th>title</th>\n",
       "      <th>cast</th>\n",
       "    </tr>\n",
       "  </thead>\n",
       "  <tbody>\n",
       "    <tr>\n",
       "      <th>0</th>\n",
       "      <td>Dick Johnson Is Dead</td>\n",
       "      <td>nan</td>\n",
       "    </tr>\n",
       "    <tr>\n",
       "      <th>1</th>\n",
       "      <td>Blood &amp; Water</td>\n",
       "      <td>Ama Qamata</td>\n",
       "    </tr>\n",
       "    <tr>\n",
       "      <th>2</th>\n",
       "      <td>Blood &amp; Water</td>\n",
       "      <td>Khosi Ngema</td>\n",
       "    </tr>\n",
       "    <tr>\n",
       "      <th>3</th>\n",
       "      <td>Blood &amp; Water</td>\n",
       "      <td>Gail Mabalane</td>\n",
       "    </tr>\n",
       "    <tr>\n",
       "      <th>4</th>\n",
       "      <td>Blood &amp; Water</td>\n",
       "      <td>Thabang Molaba</td>\n",
       "    </tr>\n",
       "  </tbody>\n",
       "</table>\n",
       "</div>"
      ],
      "text/plain": [
       "                  title             cast\n",
       "0  Dick Johnson Is Dead              nan\n",
       "1         Blood & Water       Ama Qamata\n",
       "2         Blood & Water      Khosi Ngema\n",
       "3         Blood & Water    Gail Mabalane\n",
       "4         Blood & Water   Thabang Molaba"
      ]
     },
     "execution_count": 861,
     "metadata": {},
     "output_type": "execute_result"
    }
   ],
   "source": [
    "constraint1=df[\"cast\"].apply(lambda x:str(x).split(\",\")).tolist()\n",
    "df_new_1=pd.DataFrame(constraint1,index=df[\"title\"])\n",
    "df_new_1=pd.DataFrame(df_new_1.stack().reset_index())\n",
    "df_new_1.drop(\"level_1\",axis=1,inplace=True)\n",
    "df_new_1.rename(columns={0:\"cast\"},inplace=True)\n",
    "df_new_1.head()\n"
   ]
  },
  {
   "cell_type": "code",
   "execution_count": 862,
   "metadata": {
    "vscode": {
     "languageId": "python"
    }
   },
   "outputs": [
    {
     "data": {
      "text/html": [
       "<div>\n",
       "<style scoped>\n",
       "    .dataframe tbody tr th:only-of-type {\n",
       "        vertical-align: middle;\n",
       "    }\n",
       "\n",
       "    .dataframe tbody tr th {\n",
       "        vertical-align: top;\n",
       "    }\n",
       "\n",
       "    .dataframe thead th {\n",
       "        text-align: right;\n",
       "    }\n",
       "</style>\n",
       "<table border=\"1\" class=\"dataframe\">\n",
       "  <thead>\n",
       "    <tr style=\"text-align: right;\">\n",
       "      <th></th>\n",
       "      <th>title</th>\n",
       "      <th>Genre</th>\n",
       "    </tr>\n",
       "  </thead>\n",
       "  <tbody>\n",
       "    <tr>\n",
       "      <th>0</th>\n",
       "      <td>Dick Johnson Is Dead</td>\n",
       "      <td>Documentaries</td>\n",
       "    </tr>\n",
       "    <tr>\n",
       "      <th>1</th>\n",
       "      <td>Blood &amp; Water</td>\n",
       "      <td>International TV Shows</td>\n",
       "    </tr>\n",
       "    <tr>\n",
       "      <th>2</th>\n",
       "      <td>Blood &amp; Water</td>\n",
       "      <td>TV Dramas</td>\n",
       "    </tr>\n",
       "    <tr>\n",
       "      <th>3</th>\n",
       "      <td>Blood &amp; Water</td>\n",
       "      <td>TV Mysteries</td>\n",
       "    </tr>\n",
       "    <tr>\n",
       "      <th>4</th>\n",
       "      <td>Ganglands</td>\n",
       "      <td>Crime TV Shows</td>\n",
       "    </tr>\n",
       "  </tbody>\n",
       "</table>\n",
       "</div>"
      ],
      "text/plain": [
       "                  title                   Genre\n",
       "0  Dick Johnson Is Dead           Documentaries\n",
       "1         Blood & Water  International TV Shows\n",
       "2         Blood & Water               TV Dramas\n",
       "3         Blood & Water            TV Mysteries\n",
       "4             Ganglands          Crime TV Shows"
      ]
     },
     "execution_count": 862,
     "metadata": {},
     "output_type": "execute_result"
    }
   ],
   "source": [
    "constraint2=df[\"listed_in\"].apply(lambda x:str(x).split(\",\")).tolist()\n",
    "df_new_2=pd.DataFrame(constraint2,index=df[\"title\"])\n",
    "df_new_2=pd.DataFrame(df_new_2.stack().reset_index())\n",
    "df_new_2.drop(\"level_1\",axis=1,inplace=True)\n",
    "df_new_2.rename(columns={0:\"Genre\"},inplace=True)\n",
    "df_new_2.head()\n"
   ]
  },
  {
   "cell_type": "code",
   "execution_count": 863,
   "metadata": {
    "vscode": {
     "languageId": "python"
    }
   },
   "outputs": [
    {
     "data": {
      "text/html": [
       "<div>\n",
       "<style scoped>\n",
       "    .dataframe tbody tr th:only-of-type {\n",
       "        vertical-align: middle;\n",
       "    }\n",
       "\n",
       "    .dataframe tbody tr th {\n",
       "        vertical-align: top;\n",
       "    }\n",
       "\n",
       "    .dataframe thead th {\n",
       "        text-align: right;\n",
       "    }\n",
       "</style>\n",
       "<table border=\"1\" class=\"dataframe\">\n",
       "  <thead>\n",
       "    <tr style=\"text-align: right;\">\n",
       "      <th></th>\n",
       "      <th>title</th>\n",
       "      <th>country</th>\n",
       "    </tr>\n",
       "  </thead>\n",
       "  <tbody>\n",
       "    <tr>\n",
       "      <th>0</th>\n",
       "      <td>Dick Johnson Is Dead</td>\n",
       "      <td>United States</td>\n",
       "    </tr>\n",
       "    <tr>\n",
       "      <th>1</th>\n",
       "      <td>Blood &amp; Water</td>\n",
       "      <td>South Africa</td>\n",
       "    </tr>\n",
       "    <tr>\n",
       "      <th>2</th>\n",
       "      <td>Ganglands</td>\n",
       "      <td>nan</td>\n",
       "    </tr>\n",
       "    <tr>\n",
       "      <th>3</th>\n",
       "      <td>Jailbirds New Orleans</td>\n",
       "      <td>nan</td>\n",
       "    </tr>\n",
       "    <tr>\n",
       "      <th>4</th>\n",
       "      <td>Kota Factory</td>\n",
       "      <td>India</td>\n",
       "    </tr>\n",
       "  </tbody>\n",
       "</table>\n",
       "</div>"
      ],
      "text/plain": [
       "                   title        country\n",
       "0   Dick Johnson Is Dead  United States\n",
       "1          Blood & Water   South Africa\n",
       "2              Ganglands            nan\n",
       "3  Jailbirds New Orleans            nan\n",
       "4           Kota Factory          India"
      ]
     },
     "execution_count": 863,
     "metadata": {},
     "output_type": "execute_result"
    }
   ],
   "source": [
    "constraint3=df[\"country\"].apply(lambda x:str(x).split(\",\")).tolist()\n",
    "df_new_3=pd.DataFrame(constraint3,index=df[\"title\"])\n",
    "df_new_3=pd.DataFrame(df_new_3.stack().reset_index())\n",
    "df_new_3.drop(\"level_1\",axis=1,inplace=True)\n",
    "df_new_3.rename(columns={0:\"country\"},inplace=True)\n",
    "df_new_3.head()"
   ]
  },
  {
   "cell_type": "code",
   "execution_count": 864,
   "metadata": {
    "vscode": {
     "languageId": "python"
    }
   },
   "outputs": [
    {
     "data": {
      "text/html": [
       "<div>\n",
       "<style scoped>\n",
       "    .dataframe tbody tr th:only-of-type {\n",
       "        vertical-align: middle;\n",
       "    }\n",
       "\n",
       "    .dataframe tbody tr th {\n",
       "        vertical-align: top;\n",
       "    }\n",
       "\n",
       "    .dataframe thead th {\n",
       "        text-align: right;\n",
       "    }\n",
       "</style>\n",
       "<table border=\"1\" class=\"dataframe\">\n",
       "  <thead>\n",
       "    <tr style=\"text-align: right;\">\n",
       "      <th></th>\n",
       "      <th>title</th>\n",
       "      <th>director</th>\n",
       "    </tr>\n",
       "  </thead>\n",
       "  <tbody>\n",
       "    <tr>\n",
       "      <th>0</th>\n",
       "      <td>Dick Johnson Is Dead</td>\n",
       "      <td>Kirsten Johnson</td>\n",
       "    </tr>\n",
       "    <tr>\n",
       "      <th>1</th>\n",
       "      <td>Blood &amp; Water</td>\n",
       "      <td>nan</td>\n",
       "    </tr>\n",
       "    <tr>\n",
       "      <th>2</th>\n",
       "      <td>Ganglands</td>\n",
       "      <td>Julien Leclercq</td>\n",
       "    </tr>\n",
       "    <tr>\n",
       "      <th>3</th>\n",
       "      <td>Jailbirds New Orleans</td>\n",
       "      <td>nan</td>\n",
       "    </tr>\n",
       "    <tr>\n",
       "      <th>4</th>\n",
       "      <td>Kota Factory</td>\n",
       "      <td>nan</td>\n",
       "    </tr>\n",
       "  </tbody>\n",
       "</table>\n",
       "</div>"
      ],
      "text/plain": [
       "                   title         director\n",
       "0   Dick Johnson Is Dead  Kirsten Johnson\n",
       "1          Blood & Water              nan\n",
       "2              Ganglands  Julien Leclercq\n",
       "3  Jailbirds New Orleans              nan\n",
       "4           Kota Factory              nan"
      ]
     },
     "execution_count": 864,
     "metadata": {},
     "output_type": "execute_result"
    }
   ],
   "source": [
    "constraint4=df[\"director\"].apply(lambda x:str(x).split(\",\")).tolist()\n",
    "df_new_4=pd.DataFrame(constraint4,index=df[\"title\"])\n",
    "df_new_4=pd.DataFrame(df_new_4.stack().reset_index())\n",
    "df_new_4.drop(\"level_1\",axis=1,inplace=True)\n",
    "df_new_4.rename(columns={0:\"director\"},inplace=True)\n",
    "df_new_4.head()"
   ]
  },
  {
   "cell_type": "code",
   "execution_count": 865,
   "metadata": {
    "vscode": {
     "languageId": "python"
    }
   },
   "outputs": [],
   "source": [
    "df_new=df_new_1.merge(df_new_2,on=[\"title\"],how=\"inner\")\n",
    "df_new=df_new.merge(df_new_3,on=[\"title\"],how=\"inner\")\n",
    "df_new=df_new.merge(df_new_4,on=[\"title\"],how=\"inner\")"
   ]
  },
  {
   "cell_type": "code",
   "execution_count": 866,
   "metadata": {
    "vscode": {
     "languageId": "python"
    }
   },
   "outputs": [],
   "source": [
    "df=df_new.merge(df[['show_id', 'title','type', 'date_added','release_year', 'rating', 'duration', 'description']],how=\"inner\",on=[\"title\"])"
   ]
  },
  {
   "cell_type": "code",
   "execution_count": 867,
   "metadata": {
    "vscode": {
     "languageId": "python"
    }
   },
   "outputs": [],
   "source": [
    "df[\"cast\"].replace(['nan'],['Unknown Actor'],inplace=True)\n",
    "df[\"director\"].replace(['nan'],['Unknown director'],inplace=True)\n",
    "df[\"country\"].replace(['nan',np.nan],['Unknown country','Unknown country'],inplace=True)\n",
    "df[\"cast\"]=df[\"cast\"].str.strip()\n",
    "df[\"Genre\"]=df[\"Genre\"].str.strip()\n",
    "df[\"director\"]=df[\"director\"].str.strip()\n",
    "df[\"country\"]=df[\"country\"].str.strip()\n",
    "df[\"rating\"]=df[\"rating\"].str.strip()\n",
    "df[\"rating\"].replace([np.nan],['Unknown rating'],inplace=True)\n",
    "df[\"duration\"].replace([np.nan],['Unknown duration'],inplace=True)\n",
    "df[\"date_added\"].replace([np.nan],['Unknown date'],inplace=True)\n"
   ]
  },
  {
   "cell_type": "code",
   "execution_count": 868,
   "metadata": {
    "vscode": {
     "languageId": "python"
    }
   },
   "outputs": [],
   "source": [
    "df['duration'] = df['duration'].apply(lambda x: re.sub(r'\\D', '', x))"
   ]
  },
  {
   "cell_type": "code",
   "execution_count": 869,
   "metadata": {
    "vscode": {
     "languageId": "python"
    }
   },
   "outputs": [
    {
     "data": {
      "text/html": [
       "<div>\n",
       "<style scoped>\n",
       "    .dataframe tbody tr th:only-of-type {\n",
       "        vertical-align: middle;\n",
       "    }\n",
       "\n",
       "    .dataframe tbody tr th {\n",
       "        vertical-align: top;\n",
       "    }\n",
       "\n",
       "    .dataframe thead th {\n",
       "        text-align: right;\n",
       "    }\n",
       "</style>\n",
       "<table border=\"1\" class=\"dataframe\">\n",
       "  <thead>\n",
       "    <tr style=\"text-align: right;\">\n",
       "      <th></th>\n",
       "      <th>title</th>\n",
       "      <th>cast</th>\n",
       "      <th>Genre</th>\n",
       "      <th>country</th>\n",
       "      <th>director</th>\n",
       "      <th>show_id</th>\n",
       "      <th>type</th>\n",
       "      <th>date_added</th>\n",
       "      <th>release_year</th>\n",
       "      <th>rating</th>\n",
       "      <th>duration</th>\n",
       "      <th>description</th>\n",
       "    </tr>\n",
       "  </thead>\n",
       "  <tbody>\n",
       "    <tr>\n",
       "      <th>0</th>\n",
       "      <td>Dick Johnson Is Dead</td>\n",
       "      <td>Unknown Actor</td>\n",
       "      <td>Documentaries</td>\n",
       "      <td>United States</td>\n",
       "      <td>Kirsten Johnson</td>\n",
       "      <td>s1</td>\n",
       "      <td>Movie</td>\n",
       "      <td>2021-09-25</td>\n",
       "      <td>2020</td>\n",
       "      <td>PG-13</td>\n",
       "      <td>90</td>\n",
       "      <td>As her father nears the end of his life, filmm...</td>\n",
       "    </tr>\n",
       "    <tr>\n",
       "      <th>1</th>\n",
       "      <td>Blood &amp; Water</td>\n",
       "      <td>Ama Qamata</td>\n",
       "      <td>International TV Shows</td>\n",
       "      <td>South Africa</td>\n",
       "      <td>Unknown director</td>\n",
       "      <td>s2</td>\n",
       "      <td>TV Show</td>\n",
       "      <td>2021-09-24</td>\n",
       "      <td>2021</td>\n",
       "      <td>TV-MA</td>\n",
       "      <td>2</td>\n",
       "      <td>After crossing paths at a party, a Cape Town t...</td>\n",
       "    </tr>\n",
       "    <tr>\n",
       "      <th>2</th>\n",
       "      <td>Blood &amp; Water</td>\n",
       "      <td>Ama Qamata</td>\n",
       "      <td>TV Dramas</td>\n",
       "      <td>South Africa</td>\n",
       "      <td>Unknown director</td>\n",
       "      <td>s2</td>\n",
       "      <td>TV Show</td>\n",
       "      <td>2021-09-24</td>\n",
       "      <td>2021</td>\n",
       "      <td>TV-MA</td>\n",
       "      <td>2</td>\n",
       "      <td>After crossing paths at a party, a Cape Town t...</td>\n",
       "    </tr>\n",
       "    <tr>\n",
       "      <th>3</th>\n",
       "      <td>Blood &amp; Water</td>\n",
       "      <td>Ama Qamata</td>\n",
       "      <td>TV Mysteries</td>\n",
       "      <td>South Africa</td>\n",
       "      <td>Unknown director</td>\n",
       "      <td>s2</td>\n",
       "      <td>TV Show</td>\n",
       "      <td>2021-09-24</td>\n",
       "      <td>2021</td>\n",
       "      <td>TV-MA</td>\n",
       "      <td>2</td>\n",
       "      <td>After crossing paths at a party, a Cape Town t...</td>\n",
       "    </tr>\n",
       "    <tr>\n",
       "      <th>4</th>\n",
       "      <td>Blood &amp; Water</td>\n",
       "      <td>Khosi Ngema</td>\n",
       "      <td>International TV Shows</td>\n",
       "      <td>South Africa</td>\n",
       "      <td>Unknown director</td>\n",
       "      <td>s2</td>\n",
       "      <td>TV Show</td>\n",
       "      <td>2021-09-24</td>\n",
       "      <td>2021</td>\n",
       "      <td>TV-MA</td>\n",
       "      <td>2</td>\n",
       "      <td>After crossing paths at a party, a Cape Town t...</td>\n",
       "    </tr>\n",
       "  </tbody>\n",
       "</table>\n",
       "</div>"
      ],
      "text/plain": [
       "                  title           cast                   Genre        country  \\\n",
       "0  Dick Johnson Is Dead  Unknown Actor           Documentaries  United States   \n",
       "1         Blood & Water     Ama Qamata  International TV Shows   South Africa   \n",
       "2         Blood & Water     Ama Qamata               TV Dramas   South Africa   \n",
       "3         Blood & Water     Ama Qamata            TV Mysteries   South Africa   \n",
       "4         Blood & Water    Khosi Ngema  International TV Shows   South Africa   \n",
       "\n",
       "           director show_id     type  date_added  release_year rating  \\\n",
       "0   Kirsten Johnson      s1    Movie  2021-09-25          2020  PG-13   \n",
       "1  Unknown director      s2  TV Show  2021-09-24          2021  TV-MA   \n",
       "2  Unknown director      s2  TV Show  2021-09-24          2021  TV-MA   \n",
       "3  Unknown director      s2  TV Show  2021-09-24          2021  TV-MA   \n",
       "4  Unknown director      s2  TV Show  2021-09-24          2021  TV-MA   \n",
       "\n",
       "  duration                                        description  \n",
       "0       90  As her father nears the end of his life, filmm...  \n",
       "1        2  After crossing paths at a party, a Cape Town t...  \n",
       "2        2  After crossing paths at a party, a Cape Town t...  \n",
       "3        2  After crossing paths at a party, a Cape Town t...  \n",
       "4        2  After crossing paths at a party, a Cape Town t...  "
      ]
     },
     "execution_count": 869,
     "metadata": {},
     "output_type": "execute_result"
    }
   ],
   "source": [
    "df.head()"
   ]
  },
  {
   "cell_type": "code",
   "execution_count": 870,
   "metadata": {
    "vscode": {
     "languageId": "python"
    }
   },
   "outputs": [
    {
     "data": {
      "text/plain": [
       "title           0\n",
       "cast            0\n",
       "Genre           0\n",
       "country         0\n",
       "director        0\n",
       "show_id         0\n",
       "type            0\n",
       "date_added      0\n",
       "release_year    0\n",
       "rating          0\n",
       "duration        0\n",
       "description     0\n",
       "dtype: int64"
      ]
     },
     "execution_count": 870,
     "metadata": {},
     "output_type": "execute_result"
    }
   ],
   "source": [
    "# any null values\n",
    "df.isnull().sum()"
   ]
  },
  {
   "cell_type": "code",
   "execution_count": 871,
   "metadata": {
    "vscode": {
     "languageId": "python"
    }
   },
   "outputs": [
    {
     "name": "stdout",
     "output_type": "stream",
     "text": [
      "Kahlil Gibran's The Prophet    700\n",
      "Holidays                       504\n",
      "Movie 43                       468\n",
      "The Eddy                       416\n",
      "Narcos                         378\n",
      "                              ... \n",
      "Blackfish                        1\n",
      "The 2000s                        1\n",
      "Miniforce: Super Dino Power      1\n",
      "Dancing with the Birds           1\n",
      "Dick Johnson Is Dead             1\n",
      "Name: title, Length: 8807, dtype: int64\n",
      "=============================================================\n",
      "Unknown Actor        2149\n",
      "Liam Neeson           161\n",
      "Alfred Molina         160\n",
      "John Krasinski        139\n",
      "Salma Hayek           130\n",
      "                     ... \n",
      "Peter Dunning           1\n",
      "Benjamin Bradley        1\n",
      "Drew Ray Tanner         1\n",
      "Rena Strober            1\n",
      "Hrishikesh Hirway       1\n",
      "Name: cast, Length: 36440, dtype: int64\n",
      "=============================================================\n",
      "Dramas                          29806\n",
      "International Movies            28243\n",
      "Comedies                        20829\n",
      "International TV Shows          12845\n",
      "Action & Adventure              12216\n",
      "Independent Movies               9834\n",
      "Children & Family Movies         9771\n",
      "TV Dramas                        8942\n",
      "Thrillers                        7107\n",
      "Romantic Movies                  6412\n",
      "TV Comedies                      4963\n",
      "Crime TV Shows                   4733\n",
      "Horror Movies                    4571\n",
      "Kids' TV                         4568\n",
      "Sci-Fi & Fantasy                 4037\n",
      "Music & Musicals                 3077\n",
      "Romantic TV Shows                3049\n",
      "Documentaries                    2409\n",
      "Anime Series                     2313\n",
      "TV Action & Adventure            2288\n",
      "Spanish-Language TV Shows        2126\n",
      "British TV Shows                 1808\n",
      "Sports Movies                    1531\n",
      "Classic Movies                   1443\n",
      "TV Mysteries                     1281\n",
      "Korean TV Shows                  1122\n",
      "Cult Movies                      1077\n",
      "TV Sci-Fi & Fantasy              1045\n",
      "Anime Features                   1045\n",
      "TV Horror                         941\n",
      "Docuseries                        845\n",
      "LGBTQ Movies                      838\n",
      "TV Thrillers                      768\n",
      "Teen TV Shows                     742\n",
      "Reality TV                        735\n",
      "Faith & Spirituality              719\n",
      "Stand-Up Comedy                   540\n",
      "Movies                            412\n",
      "TV Shows                          337\n",
      "Classic & Cult TV                 272\n",
      "Stand-Up Comedy & Talk Shows      268\n",
      "Science & Nature TV               157\n",
      "Name: Genre, dtype: int64\n",
      "=============================================================\n",
      "United States      59350\n",
      "India              22814\n",
      "United Kingdom     12965\n",
      "Unknown country    11897\n",
      "Japan               8679\n",
      "                   ...  \n",
      "Panama                 2\n",
      "Mongolia               2\n",
      "Kazakhstan             1\n",
      "Nicaragua              1\n",
      "Uganda                 1\n",
      "Name: country, Length: 124, dtype: int64\n",
      "=============================================================\n",
      "Unknown director       50643\n",
      "Martin Scorsese          419\n",
      "Youssef Chahine          409\n",
      "Cathy Garcia-Molina      356\n",
      "Steven Spielberg         355\n",
      "                       ...  \n",
      "Brendon Marotta            1\n",
      "Charlie Siskel             1\n",
      "Adam Bolt                  1\n",
      "Anthony Palmer             1\n",
      "Kirsten Johnson            1\n",
      "Name: director, Length: 4994, dtype: int64\n",
      "=============================================================\n",
      "Movie      145917\n",
      "TV Show     56148\n",
      "Name: type, dtype: int64\n",
      "=============================================================\n",
      "2020-01-01    3748\n",
      "2019-11-01    2258\n",
      "2021-07-01    2219\n",
      "2017-10-01    1899\n",
      "2021-09-01    1756\n",
      "              ... \n",
      "2019-06-10       1\n",
      "2017-01-24       1\n",
      "2020-11-18       1\n",
      "2017-01-23       1\n",
      "2021-09-25       1\n",
      "Name: date_added, Length: 1715, dtype: int64\n",
      "=============================================================\n",
      "2018    24441\n",
      "2019    21931\n",
      "2017    20516\n",
      "2020    19697\n",
      "2016    18465\n",
      "        ...  \n",
      "1947        8\n",
      "1946        6\n",
      "1942        6\n",
      "1943        5\n",
      "1925        1\n",
      "Name: release_year, Length: 74, dtype: int64\n",
      "=============================================================\n",
      "TV-MA             73915\n",
      "TV-14             43957\n",
      "R                 25860\n",
      "PG-13             16246\n",
      "TV-PG             14926\n",
      "PG                10919\n",
      "TV-Y7              6304\n",
      "TV-Y               3665\n",
      "TV-G               2779\n",
      "NR                 1573\n",
      "G                  1530\n",
      "NC-17               149\n",
      "TV-Y7-FV             86\n",
      "UR                   86\n",
      "Unknown rating       67\n",
      "74 min                1\n",
      "84 min                1\n",
      "66 min                1\n",
      "Name: rating, dtype: int64\n",
      "=============================================================\n",
      "1      35035\n",
      "2       9559\n",
      "3       5088\n",
      "94      4343\n",
      "106     4040\n",
      "       ...  \n",
      "16         4\n",
      "196        4\n",
      "20         4\n",
      "18         4\n",
      "           3\n",
      "Name: duration, Length: 211, dtype: int64\n",
      "=============================================================\n",
      "A troubled young girl and her mother find solace on a journey with a subversive poet whose words captivate their hearts and imaginations.                   700\n",
      "Eight gleefully grim short tales set on Halloween, Mother's Day, St. Patrick's Day and other holidays comprise this chilling horror anthology.              504\n",
      "An eye-popping cast stars in this sketch-comedy collage, the new millennium's homage to classic anthology films like The Kentucky Fried Movie.              468\n",
      "The owner of a Paris jazz club gets tangled up with dangerous criminals as he fights to protect his business, his band and his teenage daughter.            416\n",
      "The true story of Colombia's infamously violent and powerful drug cartels fuels this gritty gangster drama series.                                          378\n",
      "                                                                                                                                                           ... \n",
      "Chris D'Elia takes the stage in Minneapolis to offer his thoughts on everything from self-censorship to problematic dolphins to lame mutant powers.           1\n",
      "From public protests to viral movements, the aftermath of the R. Kelly docuseries is explored in this special featuring journalists and experts.              1\n",
      "Comedic breakout Tiffany Haddish delivers a riotous stand-up ripe with the unpretentious and filthy tales of her meteoric rise to stardom.                    1\n",
      "This documentary explores the challenging, transformative world of high-intensity fitness programs through the eyes of the people who've embraced them.       1\n",
      "As her father nears the end of his life, filmmaker Kirsten Johnson stages his death in inventive and comical ways to help them both face the inevitable.      1\n",
      "Name: description, Length: 8775, dtype: int64\n",
      "=============================================================\n"
     ]
    }
   ],
   "source": [
    "for col in df.columns[~df.columns.isin([\"show_id\"])] :\n",
    "    print(df[col].value_counts())\n",
    "    print(\"=============================================================\")"
   ]
  },
  {
   "cell_type": "code",
   "execution_count": 872,
   "metadata": {
    "vscode": {
     "languageId": "python"
    }
   },
   "outputs": [
    {
     "name": "stdout",
     "output_type": "stream",
     "text": [
      "title : 8807\n",
      "=============================================================\n",
      "cast : 36440\n",
      "=============================================================\n",
      "Genre : 42\n",
      "=============================================================\n",
      "country : 124\n",
      "=============================================================\n",
      "director : 4994\n",
      "=============================================================\n",
      "show_id : 8807\n",
      "=============================================================\n",
      "type : 2\n",
      "=============================================================\n",
      "date_added : 1715\n",
      "=============================================================\n",
      "release_year : 74\n",
      "=============================================================\n",
      "rating : 18\n",
      "=============================================================\n",
      "duration : 211\n",
      "=============================================================\n",
      "description : 8775\n",
      "=============================================================\n"
     ]
    }
   ],
   "source": [
    "for col in df.columns :\n",
    "    print(col,\":\",df[col].nunique())\n",
    "    print(\"=============================================================\")"
   ]
  },
  {
   "cell_type": "markdown",
   "metadata": {},
   "source": [
    "### No.of movies and TV Shows released per year"
   ]
  },
  {
   "cell_type": "code",
   "execution_count": 873,
   "metadata": {
    "vscode": {
     "languageId": "python"
    }
   },
   "outputs": [
    {
     "data": {
      "text/html": [
       "<div>\n",
       "<style scoped>\n",
       "    .dataframe tbody tr th:only-of-type {\n",
       "        vertical-align: middle;\n",
       "    }\n",
       "\n",
       "    .dataframe tbody tr th {\n",
       "        vertical-align: top;\n",
       "    }\n",
       "\n",
       "    .dataframe thead th {\n",
       "        text-align: right;\n",
       "    }\n",
       "</style>\n",
       "<table border=\"1\" class=\"dataframe\">\n",
       "  <thead>\n",
       "    <tr style=\"text-align: right;\">\n",
       "      <th></th>\n",
       "      <th>release_year</th>\n",
       "      <th>count</th>\n",
       "    </tr>\n",
       "  </thead>\n",
       "  <tbody>\n",
       "    <tr>\n",
       "      <th>0</th>\n",
       "      <td>1925</td>\n",
       "      <td>1</td>\n",
       "    </tr>\n",
       "    <tr>\n",
       "      <th>1</th>\n",
       "      <td>1942</td>\n",
       "      <td>2</td>\n",
       "    </tr>\n",
       "    <tr>\n",
       "      <th>2</th>\n",
       "      <td>1943</td>\n",
       "      <td>3</td>\n",
       "    </tr>\n",
       "    <tr>\n",
       "      <th>3</th>\n",
       "      <td>1944</td>\n",
       "      <td>3</td>\n",
       "    </tr>\n",
       "    <tr>\n",
       "      <th>4</th>\n",
       "      <td>1945</td>\n",
       "      <td>4</td>\n",
       "    </tr>\n",
       "    <tr>\n",
       "      <th>...</th>\n",
       "      <td>...</td>\n",
       "      <td>...</td>\n",
       "    </tr>\n",
       "    <tr>\n",
       "      <th>69</th>\n",
       "      <td>2017</td>\n",
       "      <td>1032</td>\n",
       "    </tr>\n",
       "    <tr>\n",
       "      <th>70</th>\n",
       "      <td>2018</td>\n",
       "      <td>1147</td>\n",
       "    </tr>\n",
       "    <tr>\n",
       "      <th>71</th>\n",
       "      <td>2019</td>\n",
       "      <td>1030</td>\n",
       "    </tr>\n",
       "    <tr>\n",
       "      <th>72</th>\n",
       "      <td>2020</td>\n",
       "      <td>953</td>\n",
       "    </tr>\n",
       "    <tr>\n",
       "      <th>73</th>\n",
       "      <td>2021</td>\n",
       "      <td>592</td>\n",
       "    </tr>\n",
       "  </tbody>\n",
       "</table>\n",
       "<p>74 rows × 2 columns</p>\n",
       "</div>"
      ],
      "text/plain": [
       "    release_year  count\n",
       "0           1925      1\n",
       "1           1942      2\n",
       "2           1943      3\n",
       "3           1944      3\n",
       "4           1945      4\n",
       "..           ...    ...\n",
       "69          2017   1032\n",
       "70          2018   1147\n",
       "71          2019   1030\n",
       "72          2020    953\n",
       "73          2021    592\n",
       "\n",
       "[74 rows x 2 columns]"
      ]
     },
     "execution_count": 873,
     "metadata": {},
     "output_type": "execute_result"
    }
   ],
   "source": [
    "# Count No.of movies and tv shows per year\n",
    "movie_tv_count_year=df.groupby(\"release_year\")[\"show_id\"].nunique()\n",
    "movie_tv_count_year=movie_tv_count_year.reset_index().rename({\"show_id\":\"count\"},axis=1)\n",
    "movie_tv_count_year"
   ]
  },
  {
   "cell_type": "code",
   "execution_count": 874,
   "metadata": {
    "vscode": {
     "languageId": "python"
    }
   },
   "outputs": [
    {
     "data": {
      "text/plain": [
       "<AxesSubplot:xlabel='release_year'>"
      ]
     },
     "execution_count": 874,
     "metadata": {},
     "output_type": "execute_result"
    },
    {
     "data": {
      "image/png": "[encoded data removed]",
      "text/plain": [
       "<Figure size 1080x360 with 1 Axes>"
      ]
     },
     "metadata": {
      "needs_background": "light"
     },
     "output_type": "display_data"
    }
   ],
   "source": [
    "movie_tv_count_year.plot(x=\"release_year\",y=\"count\",kind=\"bar\",figsize=(15,5),color=\"red\")"
   ]
  },
  {
   "cell_type": "code",
   "execution_count": 875,
   "metadata": {
    "vscode": {
     "languageId": "python"
    }
   },
   "outputs": [
    {
     "name": "stderr",
     "output_type": "stream",
     "text": [
      "/Users/lokeshwarsarabu/opt/miniconda3/envs/gbdt/lib/python3.9/site-packages/seaborn/distributions.py:2619: FutureWarning:\n",
      "\n",
      "`distplot` is a deprecated function and will be removed in a future version. Please adapt your code to use either `displot` (a figure-level function with similar flexibility) or `histplot` (an axes-level function for histograms).\n",
      "\n"
     ]
    },
    {
     "data": {
      "text/plain": [
       "<AxesSubplot:ylabel='Density'>"
      ]
     },
     "execution_count": 875,
     "metadata": {},
     "output_type": "execute_result"
    },
    {
     "data": {
      "image/png": "[encoded data removed]",
      "text/plain": [
       "<Figure size 1080x360 with 1 Axes>"
      ]
     },
     "metadata": {
      "needs_background": "light"
     },
     "output_type": "display_data"
    }
   ],
   "source": [
    "\n",
    "fig,ax=plt.subplots(figsize=(15,5))\n",
    "sns.distplot(list(movie_tv_count_year[\"release_year\"]), \n",
    "    hist_kws={\n",
    "        \"weights\": list(movie_tv_count_year[\"count\"])\n",
    "    },ax=ax\n",
    ")\n",
    "\n"
   ]
  },
  {
   "cell_type": "code",
   "execution_count": 876,
   "metadata": {
    "vscode": {
     "languageId": "python"
    }
   },
   "outputs": [],
   "source": [
    "movie_count_year=df[df[\"type\"]==\"Movie\"].groupby(\"release_year\")[\"show_id\"].nunique()\n",
    "tv_show_count_year=df[df[\"type\"]==\"TV Show\"].groupby(\"release_year\")[\"show_id\"].nunique()\n",
    "movie_count_year=movie_count_year.reset_index().rename({\"show_id\":\"count\"},axis=1)\n",
    "tv_show_count_year=tv_show_count_year.reset_index().rename({\"show_id\":\"count\"},axis=1)\n",
    "show_count_year=movie_count_year.merge(tv_show_count_year,how=\"left\",on=[\"release_year\"])"
   ]
  },
  {
   "cell_type": "code",
   "execution_count": 877,
   "metadata": {
    "vscode": {
     "languageId": "python"
    }
   },
   "outputs": [
    {
     "data": {
      "text/html": [
       "<div>\n",
       "<style scoped>\n",
       "    .dataframe tbody tr th:only-of-type {\n",
       "        vertical-align: middle;\n",
       "    }\n",
       "\n",
       "    .dataframe tbody tr th {\n",
       "        vertical-align: top;\n",
       "    }\n",
       "\n",
       "    .dataframe thead th {\n",
       "        text-align: right;\n",
       "    }\n",
       "</style>\n",
       "<table border=\"1\" class=\"dataframe\">\n",
       "  <thead>\n",
       "    <tr style=\"text-align: right;\">\n",
       "      <th></th>\n",
       "      <th>release_year</th>\n",
       "      <th>movie_count</th>\n",
       "      <th>tv_count</th>\n",
       "    </tr>\n",
       "  </thead>\n",
       "  <tbody>\n",
       "    <tr>\n",
       "      <th>0</th>\n",
       "      <td>1942</td>\n",
       "      <td>2</td>\n",
       "      <td>0.0</td>\n",
       "    </tr>\n",
       "    <tr>\n",
       "      <th>1</th>\n",
       "      <td>1943</td>\n",
       "      <td>3</td>\n",
       "      <td>0.0</td>\n",
       "    </tr>\n",
       "    <tr>\n",
       "      <th>2</th>\n",
       "      <td>1944</td>\n",
       "      <td>3</td>\n",
       "      <td>0.0</td>\n",
       "    </tr>\n",
       "    <tr>\n",
       "      <th>3</th>\n",
       "      <td>1945</td>\n",
       "      <td>3</td>\n",
       "      <td>1.0</td>\n",
       "    </tr>\n",
       "    <tr>\n",
       "      <th>4</th>\n",
       "      <td>1946</td>\n",
       "      <td>1</td>\n",
       "      <td>1.0</td>\n",
       "    </tr>\n",
       "    <tr>\n",
       "      <th>...</th>\n",
       "      <td>...</td>\n",
       "      <td>...</td>\n",
       "      <td>...</td>\n",
       "    </tr>\n",
       "    <tr>\n",
       "      <th>68</th>\n",
       "      <td>2017</td>\n",
       "      <td>767</td>\n",
       "      <td>265.0</td>\n",
       "    </tr>\n",
       "    <tr>\n",
       "      <th>69</th>\n",
       "      <td>2018</td>\n",
       "      <td>767</td>\n",
       "      <td>380.0</td>\n",
       "    </tr>\n",
       "    <tr>\n",
       "      <th>70</th>\n",
       "      <td>2019</td>\n",
       "      <td>633</td>\n",
       "      <td>397.0</td>\n",
       "    </tr>\n",
       "    <tr>\n",
       "      <th>71</th>\n",
       "      <td>2020</td>\n",
       "      <td>517</td>\n",
       "      <td>436.0</td>\n",
       "    </tr>\n",
       "    <tr>\n",
       "      <th>72</th>\n",
       "      <td>2021</td>\n",
       "      <td>277</td>\n",
       "      <td>315.0</td>\n",
       "    </tr>\n",
       "  </tbody>\n",
       "</table>\n",
       "<p>73 rows × 3 columns</p>\n",
       "</div>"
      ],
      "text/plain": [
       "    release_year  movie_count  tv_count\n",
       "0           1942            2       0.0\n",
       "1           1943            3       0.0\n",
       "2           1944            3       0.0\n",
       "3           1945            3       1.0\n",
       "4           1946            1       1.0\n",
       "..           ...          ...       ...\n",
       "68          2017          767     265.0\n",
       "69          2018          767     380.0\n",
       "70          2019          633     397.0\n",
       "71          2020          517     436.0\n",
       "72          2021          277     315.0\n",
       "\n",
       "[73 rows x 3 columns]"
      ]
     },
     "execution_count": 877,
     "metadata": {},
     "output_type": "execute_result"
    }
   ],
   "source": [
    "show_count_year.replace(np.nan,0,inplace=True)\n",
    "show_count_year.rename(columns={\"count_x\":\"movie_count\",\"count_y\":\"tv_count\"},inplace=True)\n",
    "show_count_year"
   ]
  },
  {
   "cell_type": "markdown",
   "metadata": {},
   "source": [
    "#### How has the number of movies and tv shows released per year changed over the last 10 years?"
   ]
  },
  {
   "cell_type": "markdown",
   "metadata": {},
   "source": [
    "### Points:\n",
    "- Most number of movies were released in the year 2017-2018\n",
    "- Most number of TV Shows were released in the year 2019-2020\n"
   ]
  },
  {
   "cell_type": "code",
   "execution_count": 878,
   "metadata": {
    "vscode": {
     "languageId": "python"
    }
   },
   "outputs": [
    {
     "data": {
      "text/plain": [
       "<AxesSubplot:xlabel='release_year'>"
      ]
     },
     "execution_count": 878,
     "metadata": {},
     "output_type": "execute_result"
    },
    {
     "data": {
      "image/png": "[encoded data removed]",
      "text/plain": [
       "<Figure size 1080x360 with 1 Axes>"
      ]
     },
     "metadata": {
      "needs_background": "light"
     },
     "output_type": "display_data"
    }
   ],
   "source": [
    "show_count_year[show_count_year[\"release_year\"]>=2010].plot(x=\"release_year\",y=[\"movie_count\",\"tv_count\"],kind=\"bar\",figsize=(15,5))"
   ]
  },
  {
   "cell_type": "code",
   "execution_count": 879,
   "metadata": {
    "vscode": {
     "languageId": "python"
    }
   },
   "outputs": [
    {
     "data": {
      "text/plain": [
       "<AxesSubplot:xlabel='type', ylabel='release_year'>"
      ]
     },
     "execution_count": 879,
     "metadata": {},
     "output_type": "execute_result"
    },
    {
     "data": {
      "image/png": "[encoded data removed]",
      "text/plain": [
       "<Figure size 432x288 with 1 Axes>"
      ]
     },
     "metadata": {
      "needs_background": "light"
     },
     "output_type": "display_data"
    }
   ],
   "source": [
    "sns.boxplot(x=\"type\",y=\"release_year\",data=df)"
   ]
  },
  {
   "cell_type": "markdown",
   "metadata": {},
   "source": [
    "### What is the best time to launch a TV show or movie?\n"
   ]
  },
  {
   "cell_type": "markdown",
   "metadata": {},
   "source": [
    "#### Daily Trend of Content Upload"
   ]
  },
  {
   "cell_type": "markdown",
   "metadata": {},
   "source": [
    "#### Points:\n",
    "- More Number of TV shows or Movies were added on Friday"
   ]
  },
  {
   "cell_type": "code",
   "execution_count": 880,
   "metadata": {
    "vscode": {
     "languageId": "python"
    }
   },
   "outputs": [],
   "source": [
    "original_data[\"date_added\"]=pd.to_datetime(original_data[\"date_added\"],errors='coerce').dt.date\n",
    "original_data['Day'] = pd.DatetimeIndex(original_data['date_added']).day_name()"
   ]
  },
  {
   "cell_type": "code",
   "execution_count": 881,
   "metadata": {
    "vscode": {
     "languageId": "python"
    }
   },
   "outputs": [
    {
     "name": "stderr",
     "output_type": "stream",
     "text": [
      "/Users/lokeshwarsarabu/opt/miniconda3/envs/gbdt/lib/python3.9/site-packages/seaborn/_decorators.py:36: FutureWarning:\n",
      "\n",
      "Pass the following variable as a keyword arg: x. From version 0.12, the only valid positional argument will be `data`, and passing other arguments without an explicit keyword will result in an error or misinterpretation.\n",
      "\n"
     ]
    },
    {
     "data": {
      "text/plain": [
       "<AxesSubplot:xlabel='Day', ylabel='count'>"
      ]
     },
     "execution_count": 881,
     "metadata": {},
     "output_type": "execute_result"
    },
    {
     "data": {
      "image/png": "[encoded data removed]",
      "text/plain": [
       "<Figure size 432x288 with 1 Axes>"
      ]
     },
     "metadata": {
      "needs_background": "light"
     },
     "output_type": "display_data"
    }
   ],
   "source": [
    "plt.xticks(rotation=90)\n",
    "sns.countplot(original_data['Day'],order=original_data[\"Day\"].value_counts().index)\n"
   ]
  },
  {
   "cell_type": "markdown",
   "metadata": {},
   "source": [
    "#### Monthly Trend of Content Upload"
   ]
  },
  {
   "cell_type": "code",
   "execution_count": 882,
   "metadata": {
    "vscode": {
     "languageId": "python"
    }
   },
   "outputs": [
    {
     "name": "stderr",
     "output_type": "stream",
     "text": [
      "/Users/lokeshwarsarabu/opt/miniconda3/envs/gbdt/lib/python3.9/site-packages/seaborn/_decorators.py:36: FutureWarning:\n",
      "\n",
      "Pass the following variable as a keyword arg: x. From version 0.12, the only valid positional argument will be `data`, and passing other arguments without an explicit keyword will result in an error or misinterpretation.\n",
      "\n"
     ]
    },
    {
     "data": {
      "text/plain": [
       "<AxesSubplot:xlabel='month', ylabel='count'>"
      ]
     },
     "execution_count": 882,
     "metadata": {},
     "output_type": "execute_result"
    },
    {
     "data": {
      "image/png": "[encoded data removed]",
      "text/plain": [
       "<Figure size 432x288 with 1 Axes>"
      ]
     },
     "metadata": {
      "needs_background": "light"
     },
     "output_type": "display_data"
    }
   ],
   "source": [
    "original_data[\"month\"]=pd.DatetimeIndex(original_data[\"date_added\"]).month_name()\n",
    "plt.xticks(rotation=90)\n",
    "sns.countplot(original_data[\"month\"],order=original_data[\"month\"].value_counts().index)"
   ]
  },
  {
   "cell_type": "markdown",
   "metadata": {},
   "source": [
    "### No.of Movies and Tv Shows are released on Netflix?\n",
    "#### Points:\n",
    "- No.of Movies on Netflix : 6131 (69%)\n",
    "- No.of TV Shows on Netflix : 2676 (31%)\n",
    "- The Dataset is Imbalanced.\n"
   ]
  },
  {
   "cell_type": "code",
   "execution_count": 883,
   "metadata": {
    "vscode": {
     "languageId": "python"
    }
   },
   "outputs": [
    {
     "name": "stdout",
     "output_type": "stream",
     "text": [
      "type\n",
      "Movie      6131\n",
      "TV Show    2676\n",
      "Name: show_id, dtype: int64\n"
     ]
    },
    {
     "data": {
      "text/plain": [
       "<AxesSubplot:xlabel='type'>"
      ]
     },
     "execution_count": 883,
     "metadata": {},
     "output_type": "execute_result"
    },
    {
     "data": {
      "image/png": "[encoded data removed]",
      "text/plain": [
       "<Figure size 432x288 with 1 Axes>"
      ]
     },
     "metadata": {
      "needs_background": "light"
     },
     "output_type": "display_data"
    }
   ],
   "source": [
    "type_count=df.groupby(\"type\")[\"show_id\"].nunique()\n",
    "print(type_count)\n",
    "type_count.plot(kind=\"bar\")"
   ]
  },
  {
   "cell_type": "markdown",
   "metadata": {},
   "source": [
    "### No.of Movies or TV Shows for each rating?\n",
    "\n",
    "#### Points :\n",
    "- Most No.of TV Shows or Movies are designed to be viewed by adults."
   ]
  },
  {
   "cell_type": "code",
   "execution_count": 884,
   "metadata": {
    "vscode": {
     "languageId": "python"
    }
   },
   "outputs": [
    {
     "data": {
      "image/png": "[encoded data removed]",
      "text/plain": [
       "<Figure size 432x288 with 1 Axes>"
      ]
     },
     "metadata": {
      "needs_background": "light"
     },
     "output_type": "display_data"
    }
   ],
   "source": [
    "rating_order =  ['G', 'TV-Y', 'TV-G', 'PG', 'TV-Y7', 'TV-Y7-FV', 'TV-PG', 'PG-13', 'TV-14', 'R', 'NC-17', 'TV-MA']\n",
    "rating_movie_count=df[(df[\"type\"]==\"Movie\") & (df[\"rating\"].isin(rating_order)) ].groupby(\"rating\")[\"show_id\"].nunique()\n",
    "rating_tv_show_count=df[(df[\"type\"]==\"TV Show\") & (df[\"rating\"].isin(rating_order))].groupby(\"rating\")[\"show_id\"].nunique()\n",
    "rating_movie_count=rating_movie_count.reset_index().rename({\"show_id\":\"movie_count\"},axis=1)\n",
    "rating_tv_show_count=rating_tv_show_count.reset_index().rename({\"show_id\":\"tv_show_count\"},axis=1)\n",
    "rating_count=rating_movie_count.merge(rating_tv_show_count,how=\"outer\",on=[\"rating\"])\n",
    "rating_count[\"rating_num\"]=rating_count[\"rating\"].apply(lambda x : rating_order.index(x))\n",
    "rating_count.sort_values(by=\"rating_num\",inplace=True)\n",
    "rating_count.plot(x=\"rating\",y=[\"movie_count\",\"tv_show_count\"],kind=\"bar\")\n",
    "plt.show()\n"
   ]
  },
  {
   "cell_type": "code",
   "execution_count": 885,
   "metadata": {
    "vscode": {
     "languageId": "python"
    }
   },
   "outputs": [
    {
     "data": {
      "text/plain": [
       "<AxesSubplot:xlabel='category'>"
      ]
     },
     "execution_count": 885,
     "metadata": {},
     "output_type": "execute_result"
    },
    {
     "data": {
      "image/png": "[encoded data removed]",
      "text/plain": [
       "<Figure size 432x288 with 1 Axes>"
      ]
     },
     "metadata": {
      "needs_background": "light"
     },
     "output_type": "display_data"
    }
   ],
   "source": [
    "def cat_rating(data):\n",
    "    if data>=0 and data<=2:\n",
    "        return \"Little Kids\"\n",
    "    elif data>=3 and data<=6:\n",
    "        return \"Older Kids\"\n",
    "    elif data>=7 and data<=8:\n",
    "        return \"Teens\"\n",
    "    else:\n",
    "        return \"Mature\"\n",
    "rating_count[\"category\"]=rating_count[\"rating_num\"].apply(cat_rating)\n",
    "category_movie_count=rating_count.groupby(\"category\")[\"movie_count\"].sum().reset_index()\n",
    "category_tv_show_count=rating_count.groupby(\"category\")[\"tv_show_count\"].sum().reset_index()\n",
    "category_count=category_movie_count.merge(category_tv_show_count,how=\"inner\",on=[\"category\"])\n",
    "category_count.plot(x=\"category\",y=[\"movie_count\",\"tv_show_count\"],kind=\"bar\")"
   ]
  },
  {
   "cell_type": "code",
   "execution_count": 886,
   "metadata": {
    "vscode": {
     "languageId": "python"
    }
   },
   "outputs": [
    {
     "data": {
      "text/plain": [
       "1    0.473214\n",
       "Name: movie_count, dtype: float64"
      ]
     },
     "execution_count": 886,
     "metadata": {},
     "output_type": "execute_result"
    }
   ],
   "source": [
    "category_count[category_count['category']==\"Mature\"][\"movie_count\"]/category_count[\"movie_count\"].sum()"
   ]
  },
  {
   "cell_type": "code",
   "execution_count": 887,
   "metadata": {
    "vscode": {
     "languageId": "python"
    }
   },
   "outputs": [
    {
     "data": {
      "text/plain": [
       "1    0.429749\n",
       "Name: tv_show_count, dtype: float64"
      ]
     },
     "execution_count": 887,
     "metadata": {},
     "output_type": "execute_result"
    }
   ],
   "source": [
    "category_count[category_count['category']==\"Mature\"][\"tv_show_count\"]/category_count[\"tv_show_count\"].sum()"
   ]
  },
  {
   "cell_type": "markdown",
   "metadata": {},
   "source": [
    "### Top 10 Genres\n",
    "Points:\n",
    "- The top Genre of Movies are International Movies, Dramas, Comedies\n",
    "- The top Genre of TV Shows International TV Shows, TV Dramas, TV Comedies\n"
   ]
  },
  {
   "cell_type": "code",
   "execution_count": 888,
   "metadata": {
    "vscode": {
     "languageId": "python"
    }
   },
   "outputs": [
    {
     "data": {
      "text/plain": [
       "<AxesSubplot:xlabel='Genre'>"
      ]
     },
     "execution_count": 888,
     "metadata": {},
     "output_type": "execute_result"
    },
    {
     "data": {
      "image/png": "[encoded data removed]",
      "text/plain": [
       "<Figure size 432x288 with 1 Axes>"
      ]
     },
     "metadata": {
      "needs_background": "light"
     },
     "output_type": "display_data"
    }
   ],
   "source": [
    "top_10_movie_genre=df[df[\"type\"]==\"Movie\"].groupby(\"Genre\")[\"show_id\"].nunique().sort_values(ascending=False)[:10]\n",
    "plt.xticks(rotation=90)\n",
    "sns.barplot(x=top_10_movie_genre.index,y=top_10_movie_genre.values)"
   ]
  },
  {
   "cell_type": "code",
   "execution_count": 889,
   "metadata": {
    "vscode": {
     "languageId": "python"
    }
   },
   "outputs": [
    {
     "data": {
      "text/plain": [
       "<AxesSubplot:xlabel='Genre'>"
      ]
     },
     "execution_count": 889,
     "metadata": {},
     "output_type": "execute_result"
    },
    {
     "data": {
      "image/png": "[encoded data removed]",
      "text/plain": [
       "<Figure size 432x288 with 1 Axes>"
      ]
     },
     "metadata": {
      "needs_background": "light"
     },
     "output_type": "display_data"
    }
   ],
   "source": [
    "top_10_show_genre=df[df[\"type\"]==\"TV Show\"].groupby(\"Genre\")[\"show_id\"].nunique().sort_values(ascending=False)[:10]\n",
    "plt.xticks(rotation=90)\n",
    "sns.barplot(x=top_10_show_genre.index,y=top_10_show_genre.values)"
   ]
  },
  {
   "cell_type": "markdown",
   "metadata": {},
   "source": [
    "### Top 10 Countries with highest Number of movies or TV Shows released"
   ]
  },
  {
   "cell_type": "code",
   "execution_count": 890,
   "metadata": {
    "vscode": {
     "languageId": "python"
    }
   },
   "outputs": [
    {
     "data": {
      "text/plain": [
       "<AxesSubplot:xlabel='country'>"
      ]
     },
     "execution_count": 890,
     "metadata": {},
     "output_type": "execute_result"
    },
    {
     "data": {
      "image/png": "[encoded data removed]",
      "text/plain": [
       "<Figure size 432x288 with 1 Axes>"
      ]
     },
     "metadata": {
      "needs_background": "light"
     },
     "output_type": "display_data"
    }
   ],
   "source": [
    "top_10_country=df.groupby(\"country\")[\"show_id\"].nunique().sort_values(ascending=False)[:10]\n",
    "top_10_country.plot(kind=\"bar\")"
   ]
  },
  {
   "cell_type": "markdown",
   "metadata": {},
   "source": [
    "### Top 10 Actors with highest number of shows and Movies"
   ]
  },
  {
   "cell_type": "markdown",
   "metadata": {},
   "source": [
    "#### Points:\n",
    "- The top actors with highest number of movies are \"Anupam Kher\",\"Shah Rukh Khan\"....\n",
    "- The top actors with highest number of TV Shows are 'Takahiro Sakurai', 'Yuki Kaji'...."
   ]
  },
  {
   "cell_type": "code",
   "execution_count": 891,
   "metadata": {
    "vscode": {
     "languageId": "python"
    }
   },
   "outputs": [
    {
     "data": {
      "text/plain": [
       "<AxesSubplot:xlabel='cast'>"
      ]
     },
     "execution_count": 891,
     "metadata": {},
     "output_type": "execute_result"
    },
    {
     "data": {
      "image/png": "[encoded data removed]",
      "text/plain": [
       "<Figure size 432x288 with 1 Axes>"
      ]
     },
     "metadata": {
      "needs_background": "light"
     },
     "output_type": "display_data"
    }
   ],
   "source": [
    "top_10_movie_actors=df[(df[\"cast\"]!=\"Unknown Actor\") & (df[\"type\"]==\"Movie\")].groupby(\"cast\")[\"show_id\"].nunique().sort_values(ascending=False).iloc[:10]\n",
    "plt.xticks(rotation=90)\n",
    "sns.barplot(x=top_10_movie_actors.index,y=top_10_movie_actors.values)"
   ]
  },
  {
   "cell_type": "code",
   "execution_count": 892,
   "metadata": {
    "vscode": {
     "languageId": "python"
    }
   },
   "outputs": [
    {
     "data": {
      "text/plain": [
       "<AxesSubplot:xlabel='cast'>"
      ]
     },
     "execution_count": 892,
     "metadata": {},
     "output_type": "execute_result"
    },
    {
     "data": {
      "image/png": "[encoded data removed]",
      "text/plain": [
       "<Figure size 432x288 with 1 Axes>"
      ]
     },
     "metadata": {
      "needs_background": "light"
     },
     "output_type": "display_data"
    }
   ],
   "source": [
    "top_10_tv_actors=df[(df[\"cast\"]!=\"Unknown Actor\") & (df[\"type\"]==\"TV Show\")].groupby(\"cast\")[\"show_id\"].nunique().sort_values(ascending=False).iloc[:10]\n",
    "plt.xticks(rotation=90)\n",
    "sns.barplot(x=top_10_tv_actors.index,y=top_10_tv_actors.values)"
   ]
  },
  {
   "cell_type": "markdown",
   "metadata": {},
   "source": [
    "### Top 10 Directors on Netflix with highest number of titles\n",
    "#### Points:\n",
    "- The top 3 directors with highest number of Movies are 'Rajiv Chilaka', 'Jan Suter', 'Raúl Campos'.\n",
    "\n",
    "- The top 3 directors with highest number of TV Shows are 'Ken Burns', 'Alastair Fothergill', 'Stan Lathan'.\n"
   ]
  },
  {
   "cell_type": "code",
   "execution_count": 893,
   "metadata": {
    "vscode": {
     "languageId": "python"
    }
   },
   "outputs": [
    {
     "data": {
      "text/plain": [
       "<AxesSubplot:xlabel='director', ylabel='count'>"
      ]
     },
     "execution_count": 893,
     "metadata": {},
     "output_type": "execute_result"
    },
    {
     "data": {
      "image/png": "[encoded data removed]",
      "text/plain": [
       "<Figure size 432x288 with 1 Axes>"
      ]
     },
     "metadata": {
      "needs_background": "light"
     },
     "output_type": "display_data"
    }
   ],
   "source": [
    "top_10_movie_directors=df[(df[\"director\"]!=\"Unknown director\") & (df[\"type\"]==\"Movie\")].\\\n",
    "    groupby(\"director\")[\"show_id\"].nunique().reset_index().\\\n",
    "    rename({\"show_id\":\"count\"},axis=1).sort_values(by=[\"count\"],ascending=False).iloc[:10]\n",
    "plt.xticks(rotation=90)\n",
    "sns.barplot(x=top_10_movie_directors[\"director\"],y=top_10_movie_directors[\"count\"])"
   ]
  },
  {
   "cell_type": "code",
   "execution_count": 894,
   "metadata": {
    "vscode": {
     "languageId": "python"
    }
   },
   "outputs": [
    {
     "data": {
      "text/plain": [
       "<AxesSubplot:xlabel='director', ylabel='count'>"
      ]
     },
     "execution_count": 894,
     "metadata": {},
     "output_type": "execute_result"
    },
    {
     "data": {
      "image/png": "[encoded data removed]",
      "text/plain": [
       "<Figure size 432x288 with 1 Axes>"
      ]
     },
     "metadata": {
      "needs_background": "light"
     },
     "output_type": "display_data"
    }
   ],
   "source": [
    "top_10_tv_show_directors=df[(df[\"director\"]!=\"Unknown director\") & (df[\"type\"]==\"TV Show\")].\\\n",
    "    groupby(\"director\")[\"show_id\"].nunique().reset_index().\\\n",
    "    rename({\"show_id\":\"count\"},axis=1).sort_values(by=[\"count\"],ascending=False).iloc[:10]\n",
    "plt.xticks(rotation=90)\n",
    "sns.barplot(x=top_10_tv_show_directors[\"director\"],y=top_10_tv_show_directors[\"count\"])"
   ]
  },
  {
   "cell_type": "markdown",
   "metadata": {},
   "source": [
    "### Duration Trend\n",
    "#### Points:\n",
    "- Majority of movies on netflix are around 90 mins\n",
    "- Majority of TV Shows on netflix with 1 season.\n",
    "- There are some outliers of each type in duration column. "
   ]
  },
  {
   "cell_type": "code",
   "execution_count": 895,
   "metadata": {
    "vscode": {
     "languageId": "python"
    }
   },
   "outputs": [],
   "source": [
    "movie_duration=df[df[\"type\"]==\"Movie\"][[\"show_id\",\"duration\"]].drop_duplicates()\n",
    "movie_duration=movie_duration.drop(movie_duration[movie_duration[\"duration\"]==\"\"].index,axis=0)\n",
    "movie_duration[\"duration\"]=movie_duration[\"duration\"].apply(lambda x : int(x))"
   ]
  },
  {
   "cell_type": "code",
   "execution_count": 896,
   "metadata": {
    "vscode": {
     "languageId": "python"
    }
   },
   "outputs": [
    {
     "data": {
      "text/plain": [
       "<AxesSubplot:xlabel='duration', ylabel='Count'>"
      ]
     },
     "execution_count": 896,
     "metadata": {},
     "output_type": "execute_result"
    },
    {
     "data": {
      "image/png": "[encoded data removed]",
      "text/plain": [
       "<Figure size 432x288 with 1 Axes>"
      ]
     },
     "metadata": {
      "needs_background": "light"
     },
     "output_type": "display_data"
    }
   ],
   "source": [
    "sns.histplot(movie_duration[\"duration\"],bins=10)"
   ]
  },
  {
   "cell_type": "code",
   "execution_count": 897,
   "metadata": {
    "vscode": {
     "languageId": "python"
    }
   },
   "outputs": [
    {
     "data": {
      "text/plain": [
       "<AxesSubplot:xlabel='duration', ylabel='Count'>"
      ]
     },
     "execution_count": 897,
     "metadata": {},
     "output_type": "execute_result"
    },
    {
     "data": {
      "image/png": "[encoded data removed]",
      "text/plain": [
       "<Figure size 432x288 with 1 Axes>"
      ]
     },
     "metadata": {
      "needs_background": "light"
     },
     "output_type": "display_data"
    }
   ],
   "source": [
    "tv_show_duration=df[df[\"type\"]==\"TV Show\"][[\"show_id\",\"duration\"]].drop_duplicates()\n",
    "tv_show_duration[\"duration\"]=tv_show_duration[\"duration\"].apply(lambda x : int(x))\n",
    "sns.histplot(tv_show_duration[\"duration\"],bins=10)"
   ]
  },
  {
   "cell_type": "code",
   "execution_count": 898,
   "metadata": {
    "vscode": {
     "languageId": "python"
    }
   },
   "outputs": [
    {
     "name": "stderr",
     "output_type": "stream",
     "text": [
      "/Users/lokeshwarsarabu/opt/miniconda3/envs/gbdt/lib/python3.9/site-packages/seaborn/distributions.py:2619: FutureWarning:\n",
      "\n",
      "`distplot` is a deprecated function and will be removed in a future version. Please adapt your code to use either `displot` (a figure-level function with similar flexibility) or `histplot` (an axes-level function for histograms).\n",
      "\n"
     ]
    },
    {
     "data": {
      "text/plain": [
       "<AxesSubplot:xlabel='duration', ylabel='Density'>"
      ]
     },
     "execution_count": 898,
     "metadata": {},
     "output_type": "execute_result"
    },
    {
     "data": {
      "image/png": "[encoded data removed]",
      "text/plain": [
       "<Figure size 432x288 with 1 Axes>"
      ]
     },
     "metadata": {
      "needs_background": "light"
     },
     "output_type": "display_data"
    }
   ],
   "source": [
    "sns.distplot(movie_duration[\"duration\"])"
   ]
  },
  {
   "cell_type": "code",
   "execution_count": 899,
   "metadata": {
    "vscode": {
     "languageId": "python"
    }
   },
   "outputs": [
    {
     "name": "stderr",
     "output_type": "stream",
     "text": [
      "/Users/lokeshwarsarabu/opt/miniconda3/envs/gbdt/lib/python3.9/site-packages/seaborn/distributions.py:2619: FutureWarning:\n",
      "\n",
      "`distplot` is a deprecated function and will be removed in a future version. Please adapt your code to use either `displot` (a figure-level function with similar flexibility) or `histplot` (an axes-level function for histograms).\n",
      "\n"
     ]
    },
    {
     "data": {
      "text/plain": [
       "<AxesSubplot:xlabel='duration', ylabel='Density'>"
      ]
     },
     "execution_count": 899,
     "metadata": {},
     "output_type": "execute_result"
    },
    {
     "data": {
      "image/png": "[encoded data removed]",
      "text/plain": [
       "<Figure size 432x288 with 1 Axes>"
      ]
     },
     "metadata": {
      "needs_background": "light"
     },
     "output_type": "display_data"
    }
   ],
   "source": [
    "sns.distplot(tv_show_duration[\"duration\"])"
   ]
  },
  {
   "cell_type": "code",
   "execution_count": 900,
   "metadata": {
    "vscode": {
     "languageId": "python"
    }
   },
   "outputs": [],
   "source": [
    "df=df.drop(df[df[\"duration\"]==\"\"].index,axis=0)\n",
    "df[\"duration\"]=df[\"duration\"].apply(lambda x : int(x))"
   ]
  },
  {
   "cell_type": "code",
   "execution_count": 901,
   "metadata": {
    "vscode": {
     "languageId": "python"
    }
   },
   "outputs": [
    {
     "data": {
      "text/plain": [
       "<AxesSubplot:xlabel='type', ylabel='duration'>"
      ]
     },
     "execution_count": 901,
     "metadata": {},
     "output_type": "execute_result"
    },
    {
     "data": {
      "image/png": "[encoded data removed]",
      "text/plain": [
       "<Figure size 432x288 with 1 Axes>"
      ]
     },
     "metadata": {
      "needs_background": "light"
     },
     "output_type": "display_data"
    }
   ],
   "source": [
    "sns.boxplot(x=df[df[\"type\"]==\"Movie\"][\"type\"],y=df[df[\"type\"]==\"Movie\"][\"duration\"])"
   ]
  },
  {
   "cell_type": "code",
   "execution_count": 902,
   "metadata": {
    "vscode": {
     "languageId": "python"
    }
   },
   "outputs": [
    {
     "data": {
      "text/plain": [
       "<AxesSubplot:xlabel='type', ylabel='duration'>"
      ]
     },
     "execution_count": 902,
     "metadata": {},
     "output_type": "execute_result"
    },
    {
     "data": {
      "image/png": "[encoded data removed]",
      "text/plain": [
       "<Figure size 432x288 with 1 Axes>"
      ]
     },
     "metadata": {
      "needs_background": "light"
     },
     "output_type": "display_data"
    }
   ],
   "source": [
    "sns.boxplot(x=df[df[\"type\"]==\"TV Show\"][\"type\"],y=df[df[\"type\"]==\"TV Show\"][\"duration\"])"
   ]
  },
  {
   "cell_type": "markdown",
   "metadata": {},
   "source": [
    "### The distribution of movies/shows produced in each country on the basis of genres."
   ]
  },
  {
   "cell_type": "code",
   "execution_count": 903,
   "metadata": {
    "vscode": {
     "languageId": "python"
    }
   },
   "outputs": [],
   "source": [
    "x=df.groupby([\"country\",\"Genre\"])[\"title\"].count().reset_index()\n",
    "x=x.sort_values(by=[\"country\",\"title\"],ascending=[True,False])\n",
    "x=x.replace('','Unknown country')\n",
    "x=x[x[\"country\"]!=\"Unknown country\"]"
   ]
  },
  {
   "cell_type": "code",
   "execution_count": 904,
   "metadata": {
    "vscode": {
     "languageId": "python"
    }
   },
   "outputs": [],
   "source": [
    "x=x.drop_duplicates(keep=False)"
   ]
  },
  {
   "cell_type": "code",
   "execution_count": 905,
   "metadata": {
    "vscode": {
     "languageId": "python"
    }
   },
   "outputs": [],
   "source": [
    "result=x.pivot_table(index=\"country\",columns=\"Genre\",values=\"title\",aggfunc=\"sum\")"
   ]
  },
  {
   "cell_type": "code",
   "execution_count": 906,
   "metadata": {
    "vscode": {
     "languageId": "python"
    }
   },
   "outputs": [
    {
     "data": {
      "text/html": [
       "<div>\n",
       "<style scoped>\n",
       "    .dataframe tbody tr th:only-of-type {\n",
       "        vertical-align: middle;\n",
       "    }\n",
       "\n",
       "    .dataframe tbody tr th {\n",
       "        vertical-align: top;\n",
       "    }\n",
       "\n",
       "    .dataframe thead th {\n",
       "        text-align: right;\n",
       "    }\n",
       "</style>\n",
       "<table border=\"1\" class=\"dataframe\">\n",
       "  <thead>\n",
       "    <tr style=\"text-align: right;\">\n",
       "      <th>Genre</th>\n",
       "      <th>Action &amp; Adventure</th>\n",
       "      <th>Anime Features</th>\n",
       "      <th>Anime Series</th>\n",
       "      <th>British TV Shows</th>\n",
       "      <th>Children &amp; Family Movies</th>\n",
       "      <th>Classic &amp; Cult TV</th>\n",
       "      <th>Classic Movies</th>\n",
       "      <th>Comedies</th>\n",
       "      <th>Crime TV Shows</th>\n",
       "      <th>Cult Movies</th>\n",
       "      <th>...</th>\n",
       "      <th>TV Action &amp; Adventure</th>\n",
       "      <th>TV Comedies</th>\n",
       "      <th>TV Dramas</th>\n",
       "      <th>TV Horror</th>\n",
       "      <th>TV Mysteries</th>\n",
       "      <th>TV Sci-Fi &amp; Fantasy</th>\n",
       "      <th>TV Shows</th>\n",
       "      <th>TV Thrillers</th>\n",
       "      <th>Teen TV Shows</th>\n",
       "      <th>Thrillers</th>\n",
       "    </tr>\n",
       "    <tr>\n",
       "      <th>country</th>\n",
       "      <th></th>\n",
       "      <th></th>\n",
       "      <th></th>\n",
       "      <th></th>\n",
       "      <th></th>\n",
       "      <th></th>\n",
       "      <th></th>\n",
       "      <th></th>\n",
       "      <th></th>\n",
       "      <th></th>\n",
       "      <th></th>\n",
       "      <th></th>\n",
       "      <th></th>\n",
       "      <th></th>\n",
       "      <th></th>\n",
       "      <th></th>\n",
       "      <th></th>\n",
       "      <th></th>\n",
       "      <th></th>\n",
       "      <th></th>\n",
       "      <th></th>\n",
       "    </tr>\n",
       "  </thead>\n",
       "  <tbody>\n",
       "    <tr>\n",
       "      <th>Afghanistan</th>\n",
       "      <td>0.0</td>\n",
       "      <td>0.0</td>\n",
       "      <td>0.0</td>\n",
       "      <td>0.0</td>\n",
       "      <td>0.0</td>\n",
       "      <td>0.0</td>\n",
       "      <td>0.0</td>\n",
       "      <td>0.0</td>\n",
       "      <td>0.0</td>\n",
       "      <td>0.0</td>\n",
       "      <td>...</td>\n",
       "      <td>0.0</td>\n",
       "      <td>0.0</td>\n",
       "      <td>0.0</td>\n",
       "      <td>0.0</td>\n",
       "      <td>0.0</td>\n",
       "      <td>0.0</td>\n",
       "      <td>0.0</td>\n",
       "      <td>0.0</td>\n",
       "      <td>0.0</td>\n",
       "      <td>0.0</td>\n",
       "    </tr>\n",
       "    <tr>\n",
       "      <th>Albania</th>\n",
       "      <td>0.0</td>\n",
       "      <td>0.0</td>\n",
       "      <td>0.0</td>\n",
       "      <td>0.0</td>\n",
       "      <td>0.0</td>\n",
       "      <td>0.0</td>\n",
       "      <td>0.0</td>\n",
       "      <td>0.0</td>\n",
       "      <td>0.0</td>\n",
       "      <td>0.0</td>\n",
       "      <td>...</td>\n",
       "      <td>0.0</td>\n",
       "      <td>0.0</td>\n",
       "      <td>0.0</td>\n",
       "      <td>0.0</td>\n",
       "      <td>0.0</td>\n",
       "      <td>0.0</td>\n",
       "      <td>0.0</td>\n",
       "      <td>0.0</td>\n",
       "      <td>0.0</td>\n",
       "      <td>0.0</td>\n",
       "    </tr>\n",
       "    <tr>\n",
       "      <th>Algeria</th>\n",
       "      <td>0.0</td>\n",
       "      <td>0.0</td>\n",
       "      <td>0.0</td>\n",
       "      <td>0.0</td>\n",
       "      <td>0.0</td>\n",
       "      <td>0.0</td>\n",
       "      <td>11.0</td>\n",
       "      <td>0.0</td>\n",
       "      <td>0.0</td>\n",
       "      <td>0.0</td>\n",
       "      <td>...</td>\n",
       "      <td>0.0</td>\n",
       "      <td>0.0</td>\n",
       "      <td>0.0</td>\n",
       "      <td>0.0</td>\n",
       "      <td>0.0</td>\n",
       "      <td>0.0</td>\n",
       "      <td>0.0</td>\n",
       "      <td>0.0</td>\n",
       "      <td>0.0</td>\n",
       "      <td>0.0</td>\n",
       "    </tr>\n",
       "    <tr>\n",
       "      <th>Angola</th>\n",
       "      <td>16.0</td>\n",
       "      <td>0.0</td>\n",
       "      <td>0.0</td>\n",
       "      <td>0.0</td>\n",
       "      <td>0.0</td>\n",
       "      <td>0.0</td>\n",
       "      <td>0.0</td>\n",
       "      <td>0.0</td>\n",
       "      <td>0.0</td>\n",
       "      <td>0.0</td>\n",
       "      <td>...</td>\n",
       "      <td>0.0</td>\n",
       "      <td>0.0</td>\n",
       "      <td>0.0</td>\n",
       "      <td>0.0</td>\n",
       "      <td>0.0</td>\n",
       "      <td>0.0</td>\n",
       "      <td>0.0</td>\n",
       "      <td>0.0</td>\n",
       "      <td>0.0</td>\n",
       "      <td>0.0</td>\n",
       "    </tr>\n",
       "    <tr>\n",
       "      <th>Argentina</th>\n",
       "      <td>41.0</td>\n",
       "      <td>0.0</td>\n",
       "      <td>0.0</td>\n",
       "      <td>0.0</td>\n",
       "      <td>45.0</td>\n",
       "      <td>10.0</td>\n",
       "      <td>10.0</td>\n",
       "      <td>139.0</td>\n",
       "      <td>75.0</td>\n",
       "      <td>20.0</td>\n",
       "      <td>...</td>\n",
       "      <td>0.0</td>\n",
       "      <td>11.0</td>\n",
       "      <td>19.0</td>\n",
       "      <td>8.0</td>\n",
       "      <td>0.0</td>\n",
       "      <td>0.0</td>\n",
       "      <td>0.0</td>\n",
       "      <td>0.0</td>\n",
       "      <td>11.0</td>\n",
       "      <td>64.0</td>\n",
       "    </tr>\n",
       "    <tr>\n",
       "      <th>...</th>\n",
       "      <td>...</td>\n",
       "      <td>...</td>\n",
       "      <td>...</td>\n",
       "      <td>...</td>\n",
       "      <td>...</td>\n",
       "      <td>...</td>\n",
       "      <td>...</td>\n",
       "      <td>...</td>\n",
       "      <td>...</td>\n",
       "      <td>...</td>\n",
       "      <td>...</td>\n",
       "      <td>...</td>\n",
       "      <td>...</td>\n",
       "      <td>...</td>\n",
       "      <td>...</td>\n",
       "      <td>...</td>\n",
       "      <td>...</td>\n",
       "      <td>...</td>\n",
       "      <td>...</td>\n",
       "      <td>...</td>\n",
       "      <td>...</td>\n",
       "    </tr>\n",
       "    <tr>\n",
       "      <th>Vatican City</th>\n",
       "      <td>0.0</td>\n",
       "      <td>0.0</td>\n",
       "      <td>0.0</td>\n",
       "      <td>0.0</td>\n",
       "      <td>0.0</td>\n",
       "      <td>0.0</td>\n",
       "      <td>0.0</td>\n",
       "      <td>0.0</td>\n",
       "      <td>0.0</td>\n",
       "      <td>0.0</td>\n",
       "      <td>...</td>\n",
       "      <td>0.0</td>\n",
       "      <td>0.0</td>\n",
       "      <td>0.0</td>\n",
       "      <td>0.0</td>\n",
       "      <td>0.0</td>\n",
       "      <td>0.0</td>\n",
       "      <td>0.0</td>\n",
       "      <td>0.0</td>\n",
       "      <td>0.0</td>\n",
       "      <td>0.0</td>\n",
       "    </tr>\n",
       "    <tr>\n",
       "      <th>Venezuela</th>\n",
       "      <td>0.0</td>\n",
       "      <td>0.0</td>\n",
       "      <td>0.0</td>\n",
       "      <td>0.0</td>\n",
       "      <td>0.0</td>\n",
       "      <td>0.0</td>\n",
       "      <td>0.0</td>\n",
       "      <td>0.0</td>\n",
       "      <td>0.0</td>\n",
       "      <td>0.0</td>\n",
       "      <td>...</td>\n",
       "      <td>0.0</td>\n",
       "      <td>0.0</td>\n",
       "      <td>0.0</td>\n",
       "      <td>0.0</td>\n",
       "      <td>0.0</td>\n",
       "      <td>0.0</td>\n",
       "      <td>0.0</td>\n",
       "      <td>0.0</td>\n",
       "      <td>0.0</td>\n",
       "      <td>7.0</td>\n",
       "    </tr>\n",
       "    <tr>\n",
       "      <th>Vietnam</th>\n",
       "      <td>11.0</td>\n",
       "      <td>0.0</td>\n",
       "      <td>0.0</td>\n",
       "      <td>0.0</td>\n",
       "      <td>0.0</td>\n",
       "      <td>0.0</td>\n",
       "      <td>0.0</td>\n",
       "      <td>10.0</td>\n",
       "      <td>0.0</td>\n",
       "      <td>0.0</td>\n",
       "      <td>...</td>\n",
       "      <td>0.0</td>\n",
       "      <td>0.0</td>\n",
       "      <td>0.0</td>\n",
       "      <td>0.0</td>\n",
       "      <td>0.0</td>\n",
       "      <td>0.0</td>\n",
       "      <td>0.0</td>\n",
       "      <td>0.0</td>\n",
       "      <td>0.0</td>\n",
       "      <td>6.0</td>\n",
       "    </tr>\n",
       "    <tr>\n",
       "      <th>West Germany</th>\n",
       "      <td>0.0</td>\n",
       "      <td>0.0</td>\n",
       "      <td>0.0</td>\n",
       "      <td>0.0</td>\n",
       "      <td>10.0</td>\n",
       "      <td>0.0</td>\n",
       "      <td>10.0</td>\n",
       "      <td>10.0</td>\n",
       "      <td>0.0</td>\n",
       "      <td>0.0</td>\n",
       "      <td>...</td>\n",
       "      <td>0.0</td>\n",
       "      <td>6.0</td>\n",
       "      <td>15.0</td>\n",
       "      <td>0.0</td>\n",
       "      <td>0.0</td>\n",
       "      <td>0.0</td>\n",
       "      <td>0.0</td>\n",
       "      <td>0.0</td>\n",
       "      <td>0.0</td>\n",
       "      <td>10.0</td>\n",
       "    </tr>\n",
       "    <tr>\n",
       "      <th>Zimbabwe</th>\n",
       "      <td>0.0</td>\n",
       "      <td>0.0</td>\n",
       "      <td>0.0</td>\n",
       "      <td>0.0</td>\n",
       "      <td>0.0</td>\n",
       "      <td>0.0</td>\n",
       "      <td>0.0</td>\n",
       "      <td>12.0</td>\n",
       "      <td>0.0</td>\n",
       "      <td>0.0</td>\n",
       "      <td>...</td>\n",
       "      <td>0.0</td>\n",
       "      <td>0.0</td>\n",
       "      <td>0.0</td>\n",
       "      <td>0.0</td>\n",
       "      <td>0.0</td>\n",
       "      <td>0.0</td>\n",
       "      <td>0.0</td>\n",
       "      <td>0.0</td>\n",
       "      <td>0.0</td>\n",
       "      <td>0.0</td>\n",
       "    </tr>\n",
       "  </tbody>\n",
       "</table>\n",
       "<p>122 rows × 42 columns</p>\n",
       "</div>"
      ],
      "text/plain": [
       "Genre         Action & Adventure  Anime Features  Anime Series  \\\n",
       "country                                                          \n",
       "Afghanistan                  0.0             0.0           0.0   \n",
       "Albania                      0.0             0.0           0.0   \n",
       "Algeria                      0.0             0.0           0.0   \n",
       "Angola                      16.0             0.0           0.0   \n",
       "Argentina                   41.0             0.0           0.0   \n",
       "...                          ...             ...           ...   \n",
       "Vatican City                 0.0             0.0           0.0   \n",
       "Venezuela                    0.0             0.0           0.0   \n",
       "Vietnam                     11.0             0.0           0.0   \n",
       "West Germany                 0.0             0.0           0.0   \n",
       "Zimbabwe                     0.0             0.0           0.0   \n",
       "\n",
       "Genre         British TV Shows  Children & Family Movies  Classic & Cult TV  \\\n",
       "country                                                                       \n",
       "Afghanistan                0.0                       0.0                0.0   \n",
       "Albania                    0.0                       0.0                0.0   \n",
       "Algeria                    0.0                       0.0                0.0   \n",
       "Angola                     0.0                       0.0                0.0   \n",
       "Argentina                  0.0                      45.0               10.0   \n",
       "...                        ...                       ...                ...   \n",
       "Vatican City               0.0                       0.0                0.0   \n",
       "Venezuela                  0.0                       0.0                0.0   \n",
       "Vietnam                    0.0                       0.0                0.0   \n",
       "West Germany               0.0                      10.0                0.0   \n",
       "Zimbabwe                   0.0                       0.0                0.0   \n",
       "\n",
       "Genre         Classic Movies  Comedies  Crime TV Shows  Cult Movies  ...  \\\n",
       "country                                                              ...   \n",
       "Afghanistan              0.0       0.0             0.0          0.0  ...   \n",
       "Albania                  0.0       0.0             0.0          0.0  ...   \n",
       "Algeria                 11.0       0.0             0.0          0.0  ...   \n",
       "Angola                   0.0       0.0             0.0          0.0  ...   \n",
       "Argentina               10.0     139.0            75.0         20.0  ...   \n",
       "...                      ...       ...             ...          ...  ...   \n",
       "Vatican City             0.0       0.0             0.0          0.0  ...   \n",
       "Venezuela                0.0       0.0             0.0          0.0  ...   \n",
       "Vietnam                  0.0      10.0             0.0          0.0  ...   \n",
       "West Germany            10.0      10.0             0.0          0.0  ...   \n",
       "Zimbabwe                 0.0      12.0             0.0          0.0  ...   \n",
       "\n",
       "Genre         TV Action & Adventure  TV Comedies  TV Dramas  TV Horror  \\\n",
       "country                                                                  \n",
       "Afghanistan                     0.0          0.0        0.0        0.0   \n",
       "Albania                         0.0          0.0        0.0        0.0   \n",
       "Algeria                         0.0          0.0        0.0        0.0   \n",
       "Angola                          0.0          0.0        0.0        0.0   \n",
       "Argentina                       0.0         11.0       19.0        8.0   \n",
       "...                             ...          ...        ...        ...   \n",
       "Vatican City                    0.0          0.0        0.0        0.0   \n",
       "Venezuela                       0.0          0.0        0.0        0.0   \n",
       "Vietnam                         0.0          0.0        0.0        0.0   \n",
       "West Germany                    0.0          6.0       15.0        0.0   \n",
       "Zimbabwe                        0.0          0.0        0.0        0.0   \n",
       "\n",
       "Genre         TV Mysteries  TV Sci-Fi & Fantasy  TV Shows  TV Thrillers  \\\n",
       "country                                                                   \n",
       "Afghanistan            0.0                  0.0       0.0           0.0   \n",
       "Albania                0.0                  0.0       0.0           0.0   \n",
       "Algeria                0.0                  0.0       0.0           0.0   \n",
       "Angola                 0.0                  0.0       0.0           0.0   \n",
       "Argentina              0.0                  0.0       0.0           0.0   \n",
       "...                    ...                  ...       ...           ...   \n",
       "Vatican City           0.0                  0.0       0.0           0.0   \n",
       "Venezuela              0.0                  0.0       0.0           0.0   \n",
       "Vietnam                0.0                  0.0       0.0           0.0   \n",
       "West Germany           0.0                  0.0       0.0           0.0   \n",
       "Zimbabwe               0.0                  0.0       0.0           0.0   \n",
       "\n",
       "Genre         Teen TV Shows  Thrillers  \n",
       "country                                 \n",
       "Afghanistan             0.0        0.0  \n",
       "Albania                 0.0        0.0  \n",
       "Algeria                 0.0        0.0  \n",
       "Angola                  0.0        0.0  \n",
       "Argentina              11.0       64.0  \n",
       "...                     ...        ...  \n",
       "Vatican City            0.0        0.0  \n",
       "Venezuela               0.0        7.0  \n",
       "Vietnam                 0.0        6.0  \n",
       "West Germany            0.0       10.0  \n",
       "Zimbabwe                0.0        0.0  \n",
       "\n",
       "[122 rows x 42 columns]"
      ]
     },
     "execution_count": 906,
     "metadata": {},
     "output_type": "execute_result"
    }
   ],
   "source": [
    "result.fillna(0)"
   ]
  },
  {
   "cell_type": "code",
   "execution_count": 907,
   "metadata": {
    "vscode": {
     "languageId": "python"
    }
   },
   "outputs": [
    {
     "data": {
      "text/plain": [
       "<AxesSubplot:xlabel='Genre', ylabel='country'>"
      ]
     },
     "execution_count": 907,
     "metadata": {},
     "output_type": "execute_result"
    },
    {
     "data": {
      "image/png": "[encoded data removed]",
      "text/plain": [
       "<Figure size 1080x1152 with 2 Axes>"
      ]
     },
     "metadata": {
      "needs_background": "light"
     },
     "output_type": "display_data"
    }
   ],
   "source": [
    "plt.figure(figsize=(15,16))\n",
    "sns.heatmap(result)\n"
   ]
  },
  {
   "cell_type": "markdown",
   "metadata": {},
   "source": [
    "### Delay in adding the movies and TV Shows\n",
    "#### Points:\n",
    "- More than 2000 titles are added to netflix after 2 Years of actual release.\n",
    "- 52 titles are added to netflix after 50 years if actual release."
   ]
  },
  {
   "cell_type": "code",
   "execution_count": 909,
   "metadata": {
    "vscode": {
     "languageId": "python"
    }
   },
   "outputs": [],
   "source": [
    "df[\"date_added\"]=pd.to_datetime(df[\"date_added\"],errors='coerce').dt.date\n",
    "\n",
    "df[\"added_year\"]= pd.DatetimeIndex(df['date_added']).year"
   ]
  },
  {
   "cell_type": "code",
   "execution_count": 910,
   "metadata": {
    "vscode": {
     "languageId": "python"
    }
   },
   "outputs": [],
   "source": [
    "df.dropna(inplace=True)"
   ]
  },
  {
   "cell_type": "code",
   "execution_count": 911,
   "metadata": {
    "vscode": {
     "languageId": "python"
    }
   },
   "outputs": [
    {
     "data": {
      "text/plain": [
       "False"
      ]
     },
     "execution_count": 911,
     "metadata": {},
     "output_type": "execute_result"
    }
   ],
   "source": [
    "df['added_year'].isna().any()\n"
   ]
  },
  {
   "cell_type": "code",
   "execution_count": 912,
   "metadata": {
    "vscode": {
     "languageId": "python"
    }
   },
   "outputs": [],
   "source": [
    "df[\"delay\"]=df[\"added_year\"]-df[\"release_year\"]"
   ]
  },
  {
   "cell_type": "code",
   "execution_count": 913,
   "metadata": {
    "vscode": {
     "languageId": "python"
    }
   },
   "outputs": [],
   "source": [
    "show_wise_delay=df[df[\"delay\"]>=1][['delay','show_id']].groupby(\"show_id\")[\"delay\"].unique().apply(lambda x:int(x[0]))"
   ]
  },
  {
   "cell_type": "code",
   "execution_count": 914,
   "metadata": {
    "vscode": {
     "languageId": "python"
    }
   },
   "outputs": [
    {
     "name": "stderr",
     "output_type": "stream",
     "text": [
      "/Users/lokeshwarsarabu/opt/miniconda3/envs/gbdt/lib/python3.9/site-packages/seaborn/_decorators.py:36: FutureWarning:\n",
      "\n",
      "Pass the following variable as a keyword arg: x. From version 0.12, the only valid positional argument will be `data`, and passing other arguments without an explicit keyword will result in an error or misinterpretation.\n",
      "\n"
     ]
    },
    {
     "data": {
      "text/plain": [
       "<AxesSubplot:xlabel='delay', ylabel='count'>"
      ]
     },
     "execution_count": 914,
     "metadata": {},
     "output_type": "execute_result"
    },
    {
     "data": {
      "image/png": "[encoded data removed]",
      "text/plain": [
       "<Figure size 432x288 with 1 Axes>"
      ]
     },
     "metadata": {
      "needs_background": "light"
     },
     "output_type": "display_data"
    }
   ],
   "source": [
    "sns.countplot(show_wise_delay[show_wise_delay<=10])"
   ]
  },
  {
   "cell_type": "code",
   "execution_count": 915,
   "metadata": {
    "vscode": {
     "languageId": "python"
    }
   },
   "outputs": [
    {
     "name": "stderr",
     "output_type": "stream",
     "text": [
      "/Users/lokeshwarsarabu/opt/miniconda3/envs/gbdt/lib/python3.9/site-packages/seaborn/_decorators.py:36: FutureWarning:\n",
      "\n",
      "Pass the following variable as a keyword arg: x. From version 0.12, the only valid positional argument will be `data`, and passing other arguments without an explicit keyword will result in an error or misinterpretation.\n",
      "\n"
     ]
    },
    {
     "data": {
      "text/plain": [
       "<AxesSubplot:xlabel='delay', ylabel='count'>"
      ]
     },
     "execution_count": 915,
     "metadata": {},
     "output_type": "execute_result"
    },
    {
     "data": {
      "image/png": "[encoded data removed]",
      "text/plain": [
       "<Figure size 432x288 with 1 Axes>"
      ]
     },
     "metadata": {
      "needs_background": "light"
     },
     "output_type": "display_data"
    }
   ],
   "source": [
    "sns.countplot(show_wise_delay[show_wise_delay>=50])"
   ]
  },
  {
   "cell_type": "markdown",
   "metadata": {},
   "source": [
    "### Business Insights:\n",
    "- The dataset contains 8807 rows and 12 columns. \n",
    "\n",
    "- The 12 columns are [show_id', 'type', 'title', 'director', 'cast', 'country', 'date_added','release_year', 'rating', 'duration', 'listed_in', 'description']\n",
    "\n",
    "- No.of Movies on Netflix: 6131(69%)\n",
    "\n",
    "- No.of TV Shows on Netflix: 2676(31%)\n",
    "\n",
    "- The most content type on netflix is Movies.\n",
    "\n",
    "- Most no.of movies on netflix were released from 2017-2018.\n",
    "\n",
    "- Most no.of TV Shows on Netflix were released from 2019-2020.\n",
    "\n",
    "- Most no.of TV Shows and Movies were added on Friday.\n",
    "\n",
    "- Most no.of TV Shows and Movies were added on July Month.\n",
    "\n",
    "- Most No.of TV Shows and Movies are designed to be viewed by adults.\n",
    "\n",
    "- The top 3 Genre of Movies are International Movies, Dramas, Comedies.\n",
    "\n",
    "- The top 3 Genre of TV Shows International TV Shows, TV Dramas, TV Comedies.\n",
    "\n",
    "- United States and India has highest number of TV Shows and Movies.\n",
    "\n",
    "- The top 2 actors with highest number of movies are \"Anupam Kher\",\"Shah Rukh Khan\". \n",
    "\n",
    "\n",
    "- The top 2 actors with highest number of TV Shows are 'Takahiro Sakurai', 'Yuki Kaji'.\n",
    "\n",
    "- The top 3 directors with highest number of Movies are 'Rajiv Chilaka', 'Jan Suter', 'Raúl Campos'.\n",
    "\n",
    "- The top 3 directors with highest number of TV Shows are 'Ken Burns', 'Alastair Fothergill', 'Stan Lathan'.\n",
    "\n",
    "- Majority of movies on netflix are around 90 mins.\n",
    "\n",
    "- Majority of TV Shows on netflix with 1 season.\n",
    "\n",
    "- More than 2000 titles are added to netflix after 2 Years of actual release.\n",
    "\n",
    "- 52 titles are added to netflix after 50 years if actual release.\n",
    "\n"
   ]
  },
  {
   "cell_type": "markdown",
   "metadata": {},
   "source": [
    "### Recommendations:\n",
    "\n",
    "- As the most content type is Movies , I would recommend them to produce movies in future.\n",
    "\n",
    "- Best day to release a TV Show or Movies is on Friday's. \n",
    "\n",
    "- Best months to release a TV Show or Movie are July,December,September.\n",
    "\n",
    "- I would recommend the Netflix to produce a movie in future with genres like \"International Movies\", \"Dramas\" , \"Comedies\".\n",
    "\n",
    "- I would recommend the Netflix to produce a TV Show in future with genres like \"TV Shows\", \"TV Dramas\" , \"TV Comedies\".\n",
    "\n",
    "- I would recommend the netflix to produce a movie with top Indian Actors like \"Anupam Kher\",\"Shah Rukh Khan\" , as they have most number of titles released on netflix.\n",
    "\n",
    "- I would recommend the netflix to produce a TV Show with top Japanese Actors like 'Takahiro Sakurai', 'Yuki Kaji' , as they have most number of titles released on netflix.\n",
    "\n",
    "- I would recommend the netflix to produce a movie with Indian director Rajiv Chilaka. He has highest number of titles released.\n",
    "\n",
    "- I would recommend the netflix to produce a TV Show with American film maker Ken Burns. He has highest number of titles released.\n",
    "\n",
    "- I would recommend netflix to keep movie duration around 90 mins.\n",
    "\n",
    "- Around 47% content on netflix given Mature rating. Adding kids content may increase the subscribers.\n",
    "\n",
    "- I would recommend the netflix to reduce delay between actual release and release year on netflix\n"
   ]
  }
 ],
 "metadata": {
  "kernelspec": {
   "display_name": "Python 3 (ipykernel)",
   "language": "python",
   "name": "python3"
  },
  "orig_nbformat": 4,
  "vscode": {
   "interpreter": {
    "hash": "56476ea3252233b6ef4d965432daee3598117dab488e35c39f12c52f9281c5f3"
   }
  }
 },
 "nbformat": 4,
 "nbformat_minor": 2
}
